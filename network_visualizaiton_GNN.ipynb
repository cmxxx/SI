{
  "nbformat": 4,
  "nbformat_minor": 0,
  "metadata": {
    "colab": {
      "name": "network visualizaiton.ipynb",
      "provenance": [],
      "collapsed_sections": [
        "xpxY4AIXdv6T",
        "jX1FrsEjpRTO",
        "Mk_fvootfhSh",
        "fTNiGmTbgg2o",
        "TSUyxSg-tepz",
        "tKrILT47dyOO",
        "CwnWUbvFbhJ4"
      ]
    },
    "kernelspec": {
      "name": "python3",
      "display_name": "Python 3"
    },
    "language_info": {
      "name": "python"
    }
  },
  "cells": [
    {
      "cell_type": "markdown",
      "metadata": {
        "id": "34_GIEm0SYY6"
      },
      "source": [
        "## Import Data"
      ]
    },
    {
      "cell_type": "code",
      "metadata": {
        "colab": {
          "base_uri": "https://localhost:8080/"
        },
        "id": "UGVoeM-RronH",
        "outputId": "6771ea07-0041-4f96-9790-e9cf9616c5bf"
      },
      "source": [
        "from google.colab import drive\n",
        "drive.mount('/content/drive')"
      ],
      "execution_count": 2,
      "outputs": [
        {
          "output_type": "stream",
          "name": "stdout",
          "text": [
            "Mounted at /content/drive\n"
          ]
        }
      ]
    },
    {
      "cell_type": "code",
      "metadata": {
        "id": "N05s7tMJsJEv"
      },
      "source": [
        "import pandas as pd\n",
        "import numpy as np"
      ],
      "execution_count": 3,
      "outputs": []
    },
    {
      "cell_type": "code",
      "metadata": {
        "colab": {
          "base_uri": "https://localhost:8080/"
        },
        "id": "xSTbnKmz7O3q",
        "outputId": "2c7a864f-af03-4af4-aad0-eec0de7c4c95"
      },
      "source": [
        "index_train = np.load('/content/drive/MyDrive/collaborations/suicide/train_id-1.npy')\n",
        "index_test = np.load('/content/drive/MyDrive/collaborations/suicide/test_id-1.npy')\n",
        "len(index_test), len(index_train)"
      ],
      "execution_count": 4,
      "outputs": [
        {
          "output_type": "execute_result",
          "data": {
            "text/plain": [
              "(227, 255)"
            ]
          },
          "metadata": {},
          "execution_count": 4
        }
      ]
    },
    {
      "cell_type": "code",
      "metadata": {
        "id": "ErXKJCwJrzF_"
      },
      "source": [
        "xls = pd.ExcelFile('/content/drive/MyDrive/collaborations/suicide/DEIDCFISSAEforMachineLearningNormalizedfollowup(11-9-21).xlsx')\n",
        "df_data = pd.read_excel(xls, 'Without formula')\n",
        "\n",
        "df_data=df_data.replace(np.nan,-1)"
      ],
      "execution_count": 5,
      "outputs": []
    },
    {
      "cell_type": "code",
      "metadata": {
        "colab": {
          "base_uri": "https://localhost:8080/",
          "height": 728
        },
        "id": "lpOKUsDdtIsM",
        "outputId": "69c1fef9-e06f-4625-f344-452c0c8cadd0"
      },
      "source": [
        "df_data"
      ],
      "execution_count": 6,
      "outputs": [
        {
          "output_type": "execute_result",
          "data": {
            "text/html": [
              "<div>\n",
              "<style scoped>\n",
              "    .dataframe tbody tr th:only-of-type {\n",
              "        vertical-align: middle;\n",
              "    }\n",
              "\n",
              "    .dataframe tbody tr th {\n",
              "        vertical-align: top;\n",
              "    }\n",
              "\n",
              "    .dataframe thead th {\n",
              "        text-align: right;\n",
              "    }\n",
              "</style>\n",
              "<table border=\"1\" class=\"dataframe\">\n",
              "  <thead>\n",
              "    <tr style=\"text-align: right;\">\n",
              "      <th></th>\n",
              "      <th></th>\n",
              "      <th>Enrollment Log Number</th>\n",
              "      <th>Enrollment Date</th>\n",
              "      <th>Age at first initial encounter (years)</th>\n",
              "      <th>Race</th>\n",
              "      <th>Ethnicity</th>\n",
              "      <th>cfi1</th>\n",
              "      <th>cfi2</th>\n",
              "      <th>cfi3</th>\n",
              "      <th>cfi4</th>\n",
              "      <th>cfi5</th>\n",
              "      <th>cfi6</th>\n",
              "      <th>cfi7</th>\n",
              "      <th>cfi8</th>\n",
              "      <th>cfi9</th>\n",
              "      <th>cfi10</th>\n",
              "      <th>cfi11</th>\n",
              "      <th>cfi12</th>\n",
              "      <th>cfi13</th>\n",
              "      <th>cfi14</th>\n",
              "      <th>cfi15</th>\n",
              "      <th>cfi16</th>\n",
              "      <th>cfi17</th>\n",
              "      <th>cfi18</th>\n",
              "      <th>cfi19</th>\n",
              "      <th>cfi20</th>\n",
              "      <th>cfi21</th>\n",
              "      <th>cfi22</th>\n",
              "      <th>Number of CFI questions answered yes</th>\n",
              "      <th>Unnamed: 29</th>\n",
              "      <th>CFIS</th>\n",
              "      <th>Enrollment Log Number.1</th>\n",
              "      <th>SI</th>\n",
              "      <th>Date of Event</th>\n",
              "      <th>Months since first Encounter</th>\n",
              "      <th>DateofEvent</th>\n",
              "      <th>Months since first Encounter.1</th>\n",
              "      <th>DateofEvent.1</th>\n",
              "      <th>Months since first Encounter.2</th>\n",
              "      <th>DateofEvent.2</th>\n",
              "      <th>...</th>\n",
              "      <th>Months since first Encounter.77</th>\n",
              "      <th>DateofEvent.77</th>\n",
              "      <th>Months since first Encounter.78</th>\n",
              "      <th>DateofEvent.78</th>\n",
              "      <th>Months since first Encounter.79</th>\n",
              "      <th>SC</th>\n",
              "      <th>Date.1</th>\n",
              "      <th>Hospitalization</th>\n",
              "      <th>DateofEvent.79</th>\n",
              "      <th>Months since first Encounter.80</th>\n",
              "      <th>DateofEvent.80</th>\n",
              "      <th>Months since first Encounter.81</th>\n",
              "      <th>DateofEvent.81</th>\n",
              "      <th>Months since first Encounter.82</th>\n",
              "      <th>DateofEvent.82</th>\n",
              "      <th>Months since first Encounter.83</th>\n",
              "      <th>DateofEvent.83</th>\n",
              "      <th>Months since first Encounter.84</th>\n",
              "      <th>DateofEvent.84</th>\n",
              "      <th>Months since first Encounter.85</th>\n",
              "      <th>DateofEvent.85</th>\n",
              "      <th>Months since first Encounter.86</th>\n",
              "      <th>DateofEvent.86</th>\n",
              "      <th>Months since first Encounter.87</th>\n",
              "      <th>DateofEvent.87</th>\n",
              "      <th>Months since first Encounter.88</th>\n",
              "      <th>DateofEvent.88</th>\n",
              "      <th>Months since first Encounter.89</th>\n",
              "      <th>DateofEvent.89</th>\n",
              "      <th>Months since first Encounter.90</th>\n",
              "      <th>DateofEvent.90</th>\n",
              "      <th>Months since first Encounter.91</th>\n",
              "      <th>DateofEvent.91</th>\n",
              "      <th>Months since first Encounter.92</th>\n",
              "      <th>DateofEvent.92</th>\n",
              "      <th>Months since first Encounter.93</th>\n",
              "      <th>DateofEvent.93</th>\n",
              "      <th>Months since first Encounter.94</th>\n",
              "      <th>DateofEvent.94</th>\n",
              "      <th>Months since first Encounter.95</th>\n",
              "    </tr>\n",
              "  </thead>\n",
              "  <tbody>\n",
              "    <tr>\n",
              "      <th>0</th>\n",
              "      <td>184</td>\n",
              "      <td>EZ</td>\n",
              "      <td>42632</td>\n",
              "      <td>54</td>\n",
              "      <td>White</td>\n",
              "      <td>Non-Hispanic</td>\n",
              "      <td>1.0</td>\n",
              "      <td>0.0</td>\n",
              "      <td>0.0</td>\n",
              "      <td>0.0</td>\n",
              "      <td>1.0</td>\n",
              "      <td>0.0</td>\n",
              "      <td>0.0</td>\n",
              "      <td>0.0</td>\n",
              "      <td>0.0</td>\n",
              "      <td>0.0</td>\n",
              "      <td>0.0</td>\n",
              "      <td>0.0</td>\n",
              "      <td>1.0</td>\n",
              "      <td>0.0</td>\n",
              "      <td>0.0</td>\n",
              "      <td>0.0</td>\n",
              "      <td>0.0</td>\n",
              "      <td>0.0</td>\n",
              "      <td>0</td>\n",
              "      <td>0.0</td>\n",
              "      <td>0</td>\n",
              "      <td>1.0</td>\n",
              "      <td>4</td>\n",
              "      <td>22</td>\n",
              "      <td>0.181818</td>\n",
              "      <td>EZ</td>\n",
              "      <td>0</td>\n",
              "      <td>-1.000000e+00</td>\n",
              "      <td>-1.0</td>\n",
              "      <td>-1.0</td>\n",
              "      <td>-1.0</td>\n",
              "      <td>-1.0</td>\n",
              "      <td>-1.0</td>\n",
              "      <td>-1.0</td>\n",
              "      <td>...</td>\n",
              "      <td>-1.0</td>\n",
              "      <td>-1.0</td>\n",
              "      <td>-1.0</td>\n",
              "      <td>-1.0</td>\n",
              "      <td>-1.0</td>\n",
              "      <td>0</td>\n",
              "      <td>-1.0</td>\n",
              "      <td>0</td>\n",
              "      <td>-1.0</td>\n",
              "      <td>-1.0</td>\n",
              "      <td>-1.0</td>\n",
              "      <td>-1.0</td>\n",
              "      <td>-1.0</td>\n",
              "      <td>-1.0</td>\n",
              "      <td>-1.0</td>\n",
              "      <td>-1.0</td>\n",
              "      <td>-1.0</td>\n",
              "      <td>-1.0</td>\n",
              "      <td>-1.0</td>\n",
              "      <td>-1.0</td>\n",
              "      <td>-1.0</td>\n",
              "      <td>-1.0</td>\n",
              "      <td>-1.0</td>\n",
              "      <td>-1.0</td>\n",
              "      <td>-1.0</td>\n",
              "      <td>-1.0</td>\n",
              "      <td>-1.0</td>\n",
              "      <td>-1.0</td>\n",
              "      <td>-1.0</td>\n",
              "      <td>-1.0</td>\n",
              "      <td>-1.0</td>\n",
              "      <td>-1.0</td>\n",
              "      <td>-1.0</td>\n",
              "      <td>-1.0</td>\n",
              "      <td>-1.0</td>\n",
              "      <td>-1.0</td>\n",
              "      <td>-1.0</td>\n",
              "      <td>-1.0</td>\n",
              "      <td>-1.0</td>\n",
              "      <td>-1.0</td>\n",
              "    </tr>\n",
              "    <tr>\n",
              "      <th>1</th>\n",
              "      <td>1</td>\n",
              "      <td>EZ0001</td>\n",
              "      <td>42538</td>\n",
              "      <td>28</td>\n",
              "      <td>Black or African American</td>\n",
              "      <td>Non-Hispanic</td>\n",
              "      <td>0.0</td>\n",
              "      <td>1.0</td>\n",
              "      <td>1.0</td>\n",
              "      <td>1.0</td>\n",
              "      <td>1.0</td>\n",
              "      <td>1.0</td>\n",
              "      <td>1.0</td>\n",
              "      <td>1.0</td>\n",
              "      <td>1.0</td>\n",
              "      <td>1.0</td>\n",
              "      <td>1.0</td>\n",
              "      <td>1.0</td>\n",
              "      <td>0.0</td>\n",
              "      <td>0.0</td>\n",
              "      <td>1.0</td>\n",
              "      <td>1.0</td>\n",
              "      <td>1.0</td>\n",
              "      <td>1.0</td>\n",
              "      <td>0</td>\n",
              "      <td>0.0</td>\n",
              "      <td>0</td>\n",
              "      <td>1.0</td>\n",
              "      <td>16</td>\n",
              "      <td>22</td>\n",
              "      <td>0.727273</td>\n",
              "      <td>EZ0001</td>\n",
              "      <td>0</td>\n",
              "      <td>-1.000000e+00</td>\n",
              "      <td>-1.0</td>\n",
              "      <td>-1.0</td>\n",
              "      <td>-1.0</td>\n",
              "      <td>-1.0</td>\n",
              "      <td>-1.0</td>\n",
              "      <td>-1.0</td>\n",
              "      <td>...</td>\n",
              "      <td>-1.0</td>\n",
              "      <td>-1.0</td>\n",
              "      <td>-1.0</td>\n",
              "      <td>-1.0</td>\n",
              "      <td>-1.0</td>\n",
              "      <td>0</td>\n",
              "      <td>-1.0</td>\n",
              "      <td>0</td>\n",
              "      <td>-1.0</td>\n",
              "      <td>-1.0</td>\n",
              "      <td>-1.0</td>\n",
              "      <td>-1.0</td>\n",
              "      <td>-1.0</td>\n",
              "      <td>-1.0</td>\n",
              "      <td>-1.0</td>\n",
              "      <td>-1.0</td>\n",
              "      <td>-1.0</td>\n",
              "      <td>-1.0</td>\n",
              "      <td>-1.0</td>\n",
              "      <td>-1.0</td>\n",
              "      <td>-1.0</td>\n",
              "      <td>-1.0</td>\n",
              "      <td>-1.0</td>\n",
              "      <td>-1.0</td>\n",
              "      <td>-1.0</td>\n",
              "      <td>-1.0</td>\n",
              "      <td>-1.0</td>\n",
              "      <td>-1.0</td>\n",
              "      <td>-1.0</td>\n",
              "      <td>-1.0</td>\n",
              "      <td>-1.0</td>\n",
              "      <td>-1.0</td>\n",
              "      <td>-1.0</td>\n",
              "      <td>-1.0</td>\n",
              "      <td>-1.0</td>\n",
              "      <td>-1.0</td>\n",
              "      <td>-1.0</td>\n",
              "      <td>-1.0</td>\n",
              "      <td>-1.0</td>\n",
              "      <td>-1.0</td>\n",
              "    </tr>\n",
              "    <tr>\n",
              "      <th>2</th>\n",
              "      <td>2</td>\n",
              "      <td>EZ1002</td>\n",
              "      <td>42538</td>\n",
              "      <td>60</td>\n",
              "      <td>Black or African American</td>\n",
              "      <td>Non-Hispanic</td>\n",
              "      <td>0.0</td>\n",
              "      <td>0.0</td>\n",
              "      <td>0.0</td>\n",
              "      <td>0.0</td>\n",
              "      <td>0.0</td>\n",
              "      <td>0.0</td>\n",
              "      <td>0.0</td>\n",
              "      <td>0.0</td>\n",
              "      <td>0.0</td>\n",
              "      <td>0.0</td>\n",
              "      <td>0.0</td>\n",
              "      <td>0.0</td>\n",
              "      <td>0.0</td>\n",
              "      <td>0.0</td>\n",
              "      <td>0.0</td>\n",
              "      <td>0.0</td>\n",
              "      <td>0.0</td>\n",
              "      <td>1.0</td>\n",
              "      <td>1</td>\n",
              "      <td>0.0</td>\n",
              "      <td>0</td>\n",
              "      <td>0.0</td>\n",
              "      <td>2</td>\n",
              "      <td>22</td>\n",
              "      <td>0.090909</td>\n",
              "      <td>EZ1002</td>\n",
              "      <td>0</td>\n",
              "      <td>-1.000000e+00</td>\n",
              "      <td>-1.0</td>\n",
              "      <td>-1.0</td>\n",
              "      <td>-1.0</td>\n",
              "      <td>-1.0</td>\n",
              "      <td>-1.0</td>\n",
              "      <td>-1.0</td>\n",
              "      <td>...</td>\n",
              "      <td>-1.0</td>\n",
              "      <td>-1.0</td>\n",
              "      <td>-1.0</td>\n",
              "      <td>-1.0</td>\n",
              "      <td>-1.0</td>\n",
              "      <td>0</td>\n",
              "      <td>-1.0</td>\n",
              "      <td>0</td>\n",
              "      <td>-1.0</td>\n",
              "      <td>-1.0</td>\n",
              "      <td>-1.0</td>\n",
              "      <td>-1.0</td>\n",
              "      <td>-1.0</td>\n",
              "      <td>-1.0</td>\n",
              "      <td>-1.0</td>\n",
              "      <td>-1.0</td>\n",
              "      <td>-1.0</td>\n",
              "      <td>-1.0</td>\n",
              "      <td>-1.0</td>\n",
              "      <td>-1.0</td>\n",
              "      <td>-1.0</td>\n",
              "      <td>-1.0</td>\n",
              "      <td>-1.0</td>\n",
              "      <td>-1.0</td>\n",
              "      <td>-1.0</td>\n",
              "      <td>-1.0</td>\n",
              "      <td>-1.0</td>\n",
              "      <td>-1.0</td>\n",
              "      <td>-1.0</td>\n",
              "      <td>-1.0</td>\n",
              "      <td>-1.0</td>\n",
              "      <td>-1.0</td>\n",
              "      <td>-1.0</td>\n",
              "      <td>-1.0</td>\n",
              "      <td>-1.0</td>\n",
              "      <td>-1.0</td>\n",
              "      <td>-1.0</td>\n",
              "      <td>-1.0</td>\n",
              "      <td>-1.0</td>\n",
              "      <td>-1.0</td>\n",
              "    </tr>\n",
              "    <tr>\n",
              "      <th>3</th>\n",
              "      <td>3</td>\n",
              "      <td>EZ1003</td>\n",
              "      <td>42541</td>\n",
              "      <td>46</td>\n",
              "      <td>White</td>\n",
              "      <td>Hispanic</td>\n",
              "      <td>0.0</td>\n",
              "      <td>1.0</td>\n",
              "      <td>0.0</td>\n",
              "      <td>1.0</td>\n",
              "      <td>1.0</td>\n",
              "      <td>1.0</td>\n",
              "      <td>0.0</td>\n",
              "      <td>1.0</td>\n",
              "      <td>1.0</td>\n",
              "      <td>0.0</td>\n",
              "      <td>1.0</td>\n",
              "      <td>0.0</td>\n",
              "      <td>0.0</td>\n",
              "      <td>1.0</td>\n",
              "      <td>1.0</td>\n",
              "      <td>1.0</td>\n",
              "      <td>0.0</td>\n",
              "      <td>1.0</td>\n",
              "      <td>0</td>\n",
              "      <td>0.0</td>\n",
              "      <td>0</td>\n",
              "      <td>1.0</td>\n",
              "      <td>12</td>\n",
              "      <td>22</td>\n",
              "      <td>0.545455</td>\n",
              "      <td>EZ1003</td>\n",
              "      <td>0</td>\n",
              "      <td>-1.000000e+00</td>\n",
              "      <td>-1.0</td>\n",
              "      <td>-1.0</td>\n",
              "      <td>-1.0</td>\n",
              "      <td>-1.0</td>\n",
              "      <td>-1.0</td>\n",
              "      <td>-1.0</td>\n",
              "      <td>...</td>\n",
              "      <td>-1.0</td>\n",
              "      <td>-1.0</td>\n",
              "      <td>-1.0</td>\n",
              "      <td>-1.0</td>\n",
              "      <td>-1.0</td>\n",
              "      <td>0</td>\n",
              "      <td>-1.0</td>\n",
              "      <td>0</td>\n",
              "      <td>-1.0</td>\n",
              "      <td>-1.0</td>\n",
              "      <td>-1.0</td>\n",
              "      <td>-1.0</td>\n",
              "      <td>-1.0</td>\n",
              "      <td>-1.0</td>\n",
              "      <td>-1.0</td>\n",
              "      <td>-1.0</td>\n",
              "      <td>-1.0</td>\n",
              "      <td>-1.0</td>\n",
              "      <td>-1.0</td>\n",
              "      <td>-1.0</td>\n",
              "      <td>-1.0</td>\n",
              "      <td>-1.0</td>\n",
              "      <td>-1.0</td>\n",
              "      <td>-1.0</td>\n",
              "      <td>-1.0</td>\n",
              "      <td>-1.0</td>\n",
              "      <td>-1.0</td>\n",
              "      <td>-1.0</td>\n",
              "      <td>-1.0</td>\n",
              "      <td>-1.0</td>\n",
              "      <td>-1.0</td>\n",
              "      <td>-1.0</td>\n",
              "      <td>-1.0</td>\n",
              "      <td>-1.0</td>\n",
              "      <td>-1.0</td>\n",
              "      <td>-1.0</td>\n",
              "      <td>-1.0</td>\n",
              "      <td>-1.0</td>\n",
              "      <td>-1.0</td>\n",
              "      <td>-1.0</td>\n",
              "    </tr>\n",
              "    <tr>\n",
              "      <th>4</th>\n",
              "      <td>4</td>\n",
              "      <td>EZ1004</td>\n",
              "      <td>42541</td>\n",
              "      <td>49</td>\n",
              "      <td>Black or African American</td>\n",
              "      <td>Non-Hispanic</td>\n",
              "      <td>0.0</td>\n",
              "      <td>0.0</td>\n",
              "      <td>0.0</td>\n",
              "      <td>1.0</td>\n",
              "      <td>0.0</td>\n",
              "      <td>0.0</td>\n",
              "      <td>0.0</td>\n",
              "      <td>0.0</td>\n",
              "      <td>0.0</td>\n",
              "      <td>0.0</td>\n",
              "      <td>0.0</td>\n",
              "      <td>0.0</td>\n",
              "      <td>0.0</td>\n",
              "      <td>0.0</td>\n",
              "      <td>0.0</td>\n",
              "      <td>0.0</td>\n",
              "      <td>0.0</td>\n",
              "      <td>0.0</td>\n",
              "      <td>0</td>\n",
              "      <td>0.0</td>\n",
              "      <td>0</td>\n",
              "      <td>0.0</td>\n",
              "      <td>1</td>\n",
              "      <td>22</td>\n",
              "      <td>0.045455</td>\n",
              "      <td>EZ1004</td>\n",
              "      <td>0</td>\n",
              "      <td>-1.000000e+00</td>\n",
              "      <td>-1.0</td>\n",
              "      <td>-1.0</td>\n",
              "      <td>-1.0</td>\n",
              "      <td>-1.0</td>\n",
              "      <td>-1.0</td>\n",
              "      <td>-1.0</td>\n",
              "      <td>...</td>\n",
              "      <td>-1.0</td>\n",
              "      <td>-1.0</td>\n",
              "      <td>-1.0</td>\n",
              "      <td>-1.0</td>\n",
              "      <td>-1.0</td>\n",
              "      <td>0</td>\n",
              "      <td>-1.0</td>\n",
              "      <td>0</td>\n",
              "      <td>-1.0</td>\n",
              "      <td>-1.0</td>\n",
              "      <td>-1.0</td>\n",
              "      <td>-1.0</td>\n",
              "      <td>-1.0</td>\n",
              "      <td>-1.0</td>\n",
              "      <td>-1.0</td>\n",
              "      <td>-1.0</td>\n",
              "      <td>-1.0</td>\n",
              "      <td>-1.0</td>\n",
              "      <td>-1.0</td>\n",
              "      <td>-1.0</td>\n",
              "      <td>-1.0</td>\n",
              "      <td>-1.0</td>\n",
              "      <td>-1.0</td>\n",
              "      <td>-1.0</td>\n",
              "      <td>-1.0</td>\n",
              "      <td>-1.0</td>\n",
              "      <td>-1.0</td>\n",
              "      <td>-1.0</td>\n",
              "      <td>-1.0</td>\n",
              "      <td>-1.0</td>\n",
              "      <td>-1.0</td>\n",
              "      <td>-1.0</td>\n",
              "      <td>-1.0</td>\n",
              "      <td>-1.0</td>\n",
              "      <td>-1.0</td>\n",
              "      <td>-1.0</td>\n",
              "      <td>-1.0</td>\n",
              "      <td>-1.0</td>\n",
              "      <td>-1.0</td>\n",
              "      <td>-1.0</td>\n",
              "    </tr>\n",
              "    <tr>\n",
              "      <th>...</th>\n",
              "      <td>...</td>\n",
              "      <td>...</td>\n",
              "      <td>...</td>\n",
              "      <td>...</td>\n",
              "      <td>...</td>\n",
              "      <td>...</td>\n",
              "      <td>...</td>\n",
              "      <td>...</td>\n",
              "      <td>...</td>\n",
              "      <td>...</td>\n",
              "      <td>...</td>\n",
              "      <td>...</td>\n",
              "      <td>...</td>\n",
              "      <td>...</td>\n",
              "      <td>...</td>\n",
              "      <td>...</td>\n",
              "      <td>...</td>\n",
              "      <td>...</td>\n",
              "      <td>...</td>\n",
              "      <td>...</td>\n",
              "      <td>...</td>\n",
              "      <td>...</td>\n",
              "      <td>...</td>\n",
              "      <td>...</td>\n",
              "      <td>...</td>\n",
              "      <td>...</td>\n",
              "      <td>...</td>\n",
              "      <td>...</td>\n",
              "      <td>...</td>\n",
              "      <td>...</td>\n",
              "      <td>...</td>\n",
              "      <td>...</td>\n",
              "      <td>...</td>\n",
              "      <td>...</td>\n",
              "      <td>...</td>\n",
              "      <td>...</td>\n",
              "      <td>...</td>\n",
              "      <td>...</td>\n",
              "      <td>...</td>\n",
              "      <td>...</td>\n",
              "      <td>...</td>\n",
              "      <td>...</td>\n",
              "      <td>...</td>\n",
              "      <td>...</td>\n",
              "      <td>...</td>\n",
              "      <td>...</td>\n",
              "      <td>...</td>\n",
              "      <td>...</td>\n",
              "      <td>...</td>\n",
              "      <td>...</td>\n",
              "      <td>...</td>\n",
              "      <td>...</td>\n",
              "      <td>...</td>\n",
              "      <td>...</td>\n",
              "      <td>...</td>\n",
              "      <td>...</td>\n",
              "      <td>...</td>\n",
              "      <td>...</td>\n",
              "      <td>...</td>\n",
              "      <td>...</td>\n",
              "      <td>...</td>\n",
              "      <td>...</td>\n",
              "      <td>...</td>\n",
              "      <td>...</td>\n",
              "      <td>...</td>\n",
              "      <td>...</td>\n",
              "      <td>...</td>\n",
              "      <td>...</td>\n",
              "      <td>...</td>\n",
              "      <td>...</td>\n",
              "      <td>...</td>\n",
              "      <td>...</td>\n",
              "      <td>...</td>\n",
              "      <td>...</td>\n",
              "      <td>...</td>\n",
              "      <td>...</td>\n",
              "      <td>...</td>\n",
              "      <td>...</td>\n",
              "      <td>...</td>\n",
              "      <td>...</td>\n",
              "      <td>...</td>\n",
              "    </tr>\n",
              "    <tr>\n",
              "      <th>477</th>\n",
              "      <td>591</td>\n",
              "      <td>EZ1591</td>\n",
              "      <td>42913</td>\n",
              "      <td>49</td>\n",
              "      <td>White</td>\n",
              "      <td>Non-Hispanic</td>\n",
              "      <td>1.0</td>\n",
              "      <td>0.0</td>\n",
              "      <td>1.0</td>\n",
              "      <td>0.0</td>\n",
              "      <td>1.0</td>\n",
              "      <td>1.0</td>\n",
              "      <td>1.0</td>\n",
              "      <td>1.0</td>\n",
              "      <td>1.0</td>\n",
              "      <td>1.0</td>\n",
              "      <td>1.0</td>\n",
              "      <td>1.0</td>\n",
              "      <td>1.0</td>\n",
              "      <td>0.0</td>\n",
              "      <td>1.0</td>\n",
              "      <td>1.0</td>\n",
              "      <td>1.0</td>\n",
              "      <td>1.0</td>\n",
              "      <td>0</td>\n",
              "      <td>0.0</td>\n",
              "      <td>0</td>\n",
              "      <td>0.0</td>\n",
              "      <td>15</td>\n",
              "      <td>22</td>\n",
              "      <td>0.681818</td>\n",
              "      <td>EZ1591</td>\n",
              "      <td>0</td>\n",
              "      <td>-1.000000e+00</td>\n",
              "      <td>-1.0</td>\n",
              "      <td>-1.0</td>\n",
              "      <td>-1.0</td>\n",
              "      <td>-1.0</td>\n",
              "      <td>-1.0</td>\n",
              "      <td>-1.0</td>\n",
              "      <td>...</td>\n",
              "      <td>-1.0</td>\n",
              "      <td>-1.0</td>\n",
              "      <td>-1.0</td>\n",
              "      <td>-1.0</td>\n",
              "      <td>-1.0</td>\n",
              "      <td>0</td>\n",
              "      <td>-1.0</td>\n",
              "      <td>0</td>\n",
              "      <td>-1.0</td>\n",
              "      <td>-1.0</td>\n",
              "      <td>-1.0</td>\n",
              "      <td>-1.0</td>\n",
              "      <td>-1.0</td>\n",
              "      <td>-1.0</td>\n",
              "      <td>-1.0</td>\n",
              "      <td>-1.0</td>\n",
              "      <td>-1.0</td>\n",
              "      <td>-1.0</td>\n",
              "      <td>-1.0</td>\n",
              "      <td>-1.0</td>\n",
              "      <td>-1.0</td>\n",
              "      <td>-1.0</td>\n",
              "      <td>-1.0</td>\n",
              "      <td>-1.0</td>\n",
              "      <td>-1.0</td>\n",
              "      <td>-1.0</td>\n",
              "      <td>-1.0</td>\n",
              "      <td>-1.0</td>\n",
              "      <td>-1.0</td>\n",
              "      <td>-1.0</td>\n",
              "      <td>-1.0</td>\n",
              "      <td>-1.0</td>\n",
              "      <td>-1.0</td>\n",
              "      <td>-1.0</td>\n",
              "      <td>-1.0</td>\n",
              "      <td>-1.0</td>\n",
              "      <td>-1.0</td>\n",
              "      <td>-1.0</td>\n",
              "      <td>-1.0</td>\n",
              "      <td>-1.0</td>\n",
              "    </tr>\n",
              "    <tr>\n",
              "      <th>478</th>\n",
              "      <td>592</td>\n",
              "      <td>EZ1592</td>\n",
              "      <td>42913</td>\n",
              "      <td>24</td>\n",
              "      <td>Black or African American</td>\n",
              "      <td>Non-Hispanic</td>\n",
              "      <td>1.0</td>\n",
              "      <td>1.0</td>\n",
              "      <td>1.0</td>\n",
              "      <td>0.0</td>\n",
              "      <td>1.0</td>\n",
              "      <td>1.0</td>\n",
              "      <td>1.0</td>\n",
              "      <td>1.0</td>\n",
              "      <td>1.0</td>\n",
              "      <td>1.0</td>\n",
              "      <td>0.0</td>\n",
              "      <td>1.0</td>\n",
              "      <td>0.0</td>\n",
              "      <td>-1.0</td>\n",
              "      <td>1.0</td>\n",
              "      <td>1.0</td>\n",
              "      <td>0.0</td>\n",
              "      <td>1.0</td>\n",
              "      <td>0</td>\n",
              "      <td>0.0</td>\n",
              "      <td>1</td>\n",
              "      <td>1.0</td>\n",
              "      <td>15</td>\n",
              "      <td>21</td>\n",
              "      <td>0.714286</td>\n",
              "      <td>EZ1592</td>\n",
              "      <td>1</td>\n",
              "      <td>1.508890e+18</td>\n",
              "      <td>4.0</td>\n",
              "      <td>-1.0</td>\n",
              "      <td>-1.0</td>\n",
              "      <td>-1.0</td>\n",
              "      <td>-1.0</td>\n",
              "      <td>-1.0</td>\n",
              "      <td>...</td>\n",
              "      <td>-1.0</td>\n",
              "      <td>-1.0</td>\n",
              "      <td>-1.0</td>\n",
              "      <td>-1.0</td>\n",
              "      <td>-1.0</td>\n",
              "      <td>0</td>\n",
              "      <td>-1.0</td>\n",
              "      <td>0</td>\n",
              "      <td>-1.0</td>\n",
              "      <td>-1.0</td>\n",
              "      <td>-1.0</td>\n",
              "      <td>-1.0</td>\n",
              "      <td>-1.0</td>\n",
              "      <td>-1.0</td>\n",
              "      <td>-1.0</td>\n",
              "      <td>-1.0</td>\n",
              "      <td>-1.0</td>\n",
              "      <td>-1.0</td>\n",
              "      <td>-1.0</td>\n",
              "      <td>-1.0</td>\n",
              "      <td>-1.0</td>\n",
              "      <td>-1.0</td>\n",
              "      <td>-1.0</td>\n",
              "      <td>-1.0</td>\n",
              "      <td>-1.0</td>\n",
              "      <td>-1.0</td>\n",
              "      <td>-1.0</td>\n",
              "      <td>-1.0</td>\n",
              "      <td>-1.0</td>\n",
              "      <td>-1.0</td>\n",
              "      <td>-1.0</td>\n",
              "      <td>-1.0</td>\n",
              "      <td>-1.0</td>\n",
              "      <td>-1.0</td>\n",
              "      <td>-1.0</td>\n",
              "      <td>-1.0</td>\n",
              "      <td>-1.0</td>\n",
              "      <td>-1.0</td>\n",
              "      <td>-1.0</td>\n",
              "      <td>-1.0</td>\n",
              "    </tr>\n",
              "    <tr>\n",
              "      <th>479</th>\n",
              "      <td>594</td>\n",
              "      <td>EZ1594</td>\n",
              "      <td>42919</td>\n",
              "      <td>55</td>\n",
              "      <td>Refused</td>\n",
              "      <td>Non-Hispanic</td>\n",
              "      <td>1.0</td>\n",
              "      <td>0.0</td>\n",
              "      <td>0.0</td>\n",
              "      <td>0.0</td>\n",
              "      <td>1.0</td>\n",
              "      <td>0.0</td>\n",
              "      <td>1.0</td>\n",
              "      <td>-1.0</td>\n",
              "      <td>1.0</td>\n",
              "      <td>0.0</td>\n",
              "      <td>0.0</td>\n",
              "      <td>0.0</td>\n",
              "      <td>0.0</td>\n",
              "      <td>0.0</td>\n",
              "      <td>0.0</td>\n",
              "      <td>1.0</td>\n",
              "      <td>0.0</td>\n",
              "      <td>1.0</td>\n",
              "      <td>0</td>\n",
              "      <td>0.0</td>\n",
              "      <td>0</td>\n",
              "      <td>0.0</td>\n",
              "      <td>6</td>\n",
              "      <td>21</td>\n",
              "      <td>0.285714</td>\n",
              "      <td>EZ1594</td>\n",
              "      <td>0</td>\n",
              "      <td>-1.000000e+00</td>\n",
              "      <td>-1.0</td>\n",
              "      <td>-1.0</td>\n",
              "      <td>-1.0</td>\n",
              "      <td>-1.0</td>\n",
              "      <td>-1.0</td>\n",
              "      <td>-1.0</td>\n",
              "      <td>...</td>\n",
              "      <td>-1.0</td>\n",
              "      <td>-1.0</td>\n",
              "      <td>-1.0</td>\n",
              "      <td>-1.0</td>\n",
              "      <td>-1.0</td>\n",
              "      <td>0</td>\n",
              "      <td>-1.0</td>\n",
              "      <td>0</td>\n",
              "      <td>-1.0</td>\n",
              "      <td>-1.0</td>\n",
              "      <td>-1.0</td>\n",
              "      <td>-1.0</td>\n",
              "      <td>-1.0</td>\n",
              "      <td>-1.0</td>\n",
              "      <td>-1.0</td>\n",
              "      <td>-1.0</td>\n",
              "      <td>-1.0</td>\n",
              "      <td>-1.0</td>\n",
              "      <td>-1.0</td>\n",
              "      <td>-1.0</td>\n",
              "      <td>-1.0</td>\n",
              "      <td>-1.0</td>\n",
              "      <td>-1.0</td>\n",
              "      <td>-1.0</td>\n",
              "      <td>-1.0</td>\n",
              "      <td>-1.0</td>\n",
              "      <td>-1.0</td>\n",
              "      <td>-1.0</td>\n",
              "      <td>-1.0</td>\n",
              "      <td>-1.0</td>\n",
              "      <td>-1.0</td>\n",
              "      <td>-1.0</td>\n",
              "      <td>-1.0</td>\n",
              "      <td>-1.0</td>\n",
              "      <td>-1.0</td>\n",
              "      <td>-1.0</td>\n",
              "      <td>-1.0</td>\n",
              "      <td>-1.0</td>\n",
              "      <td>-1.0</td>\n",
              "      <td>-1.0</td>\n",
              "    </tr>\n",
              "    <tr>\n",
              "      <th>480</th>\n",
              "      <td>595</td>\n",
              "      <td>EZ1595</td>\n",
              "      <td>42923</td>\n",
              "      <td>23</td>\n",
              "      <td>White</td>\n",
              "      <td>Non-Hispanic</td>\n",
              "      <td>0.0</td>\n",
              "      <td>0.0</td>\n",
              "      <td>0.0</td>\n",
              "      <td>1.0</td>\n",
              "      <td>0.0</td>\n",
              "      <td>0.0</td>\n",
              "      <td>0.0</td>\n",
              "      <td>1.0</td>\n",
              "      <td>1.0</td>\n",
              "      <td>0.0</td>\n",
              "      <td>1.0</td>\n",
              "      <td>1.0</td>\n",
              "      <td>0.0</td>\n",
              "      <td>0.0</td>\n",
              "      <td>0.0</td>\n",
              "      <td>0.0</td>\n",
              "      <td>1.0</td>\n",
              "      <td>0.0</td>\n",
              "      <td>1</td>\n",
              "      <td>0.0</td>\n",
              "      <td>0</td>\n",
              "      <td>1.0</td>\n",
              "      <td>8</td>\n",
              "      <td>22</td>\n",
              "      <td>0.363636</td>\n",
              "      <td>EZ1595</td>\n",
              "      <td>0</td>\n",
              "      <td>-1.000000e+00</td>\n",
              "      <td>-1.0</td>\n",
              "      <td>-1.0</td>\n",
              "      <td>-1.0</td>\n",
              "      <td>-1.0</td>\n",
              "      <td>-1.0</td>\n",
              "      <td>-1.0</td>\n",
              "      <td>...</td>\n",
              "      <td>-1.0</td>\n",
              "      <td>-1.0</td>\n",
              "      <td>-1.0</td>\n",
              "      <td>-1.0</td>\n",
              "      <td>-1.0</td>\n",
              "      <td>0</td>\n",
              "      <td>-1.0</td>\n",
              "      <td>0</td>\n",
              "      <td>-1.0</td>\n",
              "      <td>-1.0</td>\n",
              "      <td>-1.0</td>\n",
              "      <td>-1.0</td>\n",
              "      <td>-1.0</td>\n",
              "      <td>-1.0</td>\n",
              "      <td>-1.0</td>\n",
              "      <td>-1.0</td>\n",
              "      <td>-1.0</td>\n",
              "      <td>-1.0</td>\n",
              "      <td>-1.0</td>\n",
              "      <td>-1.0</td>\n",
              "      <td>-1.0</td>\n",
              "      <td>-1.0</td>\n",
              "      <td>-1.0</td>\n",
              "      <td>-1.0</td>\n",
              "      <td>-1.0</td>\n",
              "      <td>-1.0</td>\n",
              "      <td>-1.0</td>\n",
              "      <td>-1.0</td>\n",
              "      <td>-1.0</td>\n",
              "      <td>-1.0</td>\n",
              "      <td>-1.0</td>\n",
              "      <td>-1.0</td>\n",
              "      <td>-1.0</td>\n",
              "      <td>-1.0</td>\n",
              "      <td>-1.0</td>\n",
              "      <td>-1.0</td>\n",
              "      <td>-1.0</td>\n",
              "      <td>-1.0</td>\n",
              "      <td>-1.0</td>\n",
              "      <td>-1.0</td>\n",
              "    </tr>\n",
              "    <tr>\n",
              "      <th>481</th>\n",
              "      <td>203</td>\n",
              "      <td>EZ203</td>\n",
              "      <td>42633</td>\n",
              "      <td>67</td>\n",
              "      <td>White</td>\n",
              "      <td>Non-Hispanic</td>\n",
              "      <td>0.0</td>\n",
              "      <td>0.0</td>\n",
              "      <td>0.0</td>\n",
              "      <td>1.0</td>\n",
              "      <td>0.0</td>\n",
              "      <td>1.0</td>\n",
              "      <td>0.0</td>\n",
              "      <td>0.0</td>\n",
              "      <td>0.0</td>\n",
              "      <td>0.0</td>\n",
              "      <td>0.0</td>\n",
              "      <td>1.0</td>\n",
              "      <td>0.0</td>\n",
              "      <td>0.0</td>\n",
              "      <td>0.0</td>\n",
              "      <td>0.0</td>\n",
              "      <td>0.0</td>\n",
              "      <td>0.0</td>\n",
              "      <td>0</td>\n",
              "      <td>0.0</td>\n",
              "      <td>1</td>\n",
              "      <td>1.0</td>\n",
              "      <td>5</td>\n",
              "      <td>22</td>\n",
              "      <td>0.227273</td>\n",
              "      <td>EZ203</td>\n",
              "      <td>0</td>\n",
              "      <td>-1.000000e+00</td>\n",
              "      <td>-1.0</td>\n",
              "      <td>-1.0</td>\n",
              "      <td>-1.0</td>\n",
              "      <td>-1.0</td>\n",
              "      <td>-1.0</td>\n",
              "      <td>-1.0</td>\n",
              "      <td>...</td>\n",
              "      <td>-1.0</td>\n",
              "      <td>-1.0</td>\n",
              "      <td>-1.0</td>\n",
              "      <td>-1.0</td>\n",
              "      <td>-1.0</td>\n",
              "      <td>0</td>\n",
              "      <td>-1.0</td>\n",
              "      <td>0</td>\n",
              "      <td>-1.0</td>\n",
              "      <td>-1.0</td>\n",
              "      <td>-1.0</td>\n",
              "      <td>-1.0</td>\n",
              "      <td>-1.0</td>\n",
              "      <td>-1.0</td>\n",
              "      <td>-1.0</td>\n",
              "      <td>-1.0</td>\n",
              "      <td>-1.0</td>\n",
              "      <td>-1.0</td>\n",
              "      <td>-1.0</td>\n",
              "      <td>-1.0</td>\n",
              "      <td>-1.0</td>\n",
              "      <td>-1.0</td>\n",
              "      <td>-1.0</td>\n",
              "      <td>-1.0</td>\n",
              "      <td>-1.0</td>\n",
              "      <td>-1.0</td>\n",
              "      <td>-1.0</td>\n",
              "      <td>-1.0</td>\n",
              "      <td>-1.0</td>\n",
              "      <td>-1.0</td>\n",
              "      <td>-1.0</td>\n",
              "      <td>-1.0</td>\n",
              "      <td>-1.0</td>\n",
              "      <td>-1.0</td>\n",
              "      <td>-1.0</td>\n",
              "      <td>-1.0</td>\n",
              "      <td>-1.0</td>\n",
              "      <td>-1.0</td>\n",
              "      <td>-1.0</td>\n",
              "      <td>-1.0</td>\n",
              "    </tr>\n",
              "  </tbody>\n",
              "</table>\n",
              "<p>482 rows × 232 columns</p>\n",
              "</div>"
            ],
            "text/plain": [
              "         Enrollment Log Number  ...  DateofEvent.94  Months since first Encounter.95\n",
              "0    184                    EZ  ...            -1.0                             -1.0\n",
              "1      1                EZ0001  ...            -1.0                             -1.0\n",
              "2      2                EZ1002  ...            -1.0                             -1.0\n",
              "3      3                EZ1003  ...            -1.0                             -1.0\n",
              "4      4                EZ1004  ...            -1.0                             -1.0\n",
              "..   ...                   ...  ...             ...                              ...\n",
              "477  591                EZ1591  ...            -1.0                             -1.0\n",
              "478  592                EZ1592  ...            -1.0                             -1.0\n",
              "479  594                EZ1594  ...            -1.0                             -1.0\n",
              "480  595                EZ1595  ...            -1.0                             -1.0\n",
              "481  203                 EZ203  ...            -1.0                             -1.0\n",
              "\n",
              "[482 rows x 232 columns]"
            ]
          },
          "metadata": {},
          "execution_count": 6
        }
      ]
    },
    {
      "cell_type": "code",
      "metadata": {
        "colab": {
          "base_uri": "https://localhost:8080/",
          "height": 579
        },
        "id": "0V5VkEW5sQ5b",
        "outputId": "fe1e0198-0e2f-479e-8b8b-cc904ac84dc2"
      },
      "source": [
        "df_data.iloc[0:16,6:31]"
      ],
      "execution_count": 9,
      "outputs": [
        {
          "output_type": "execute_result",
          "data": {
            "text/html": [
              "<div>\n",
              "<style scoped>\n",
              "    .dataframe tbody tr th:only-of-type {\n",
              "        vertical-align: middle;\n",
              "    }\n",
              "\n",
              "    .dataframe tbody tr th {\n",
              "        vertical-align: top;\n",
              "    }\n",
              "\n",
              "    .dataframe thead th {\n",
              "        text-align: right;\n",
              "    }\n",
              "</style>\n",
              "<table border=\"1\" class=\"dataframe\">\n",
              "  <thead>\n",
              "    <tr style=\"text-align: right;\">\n",
              "      <th></th>\n",
              "      <th>cfi1</th>\n",
              "      <th>cfi2</th>\n",
              "      <th>cfi3</th>\n",
              "      <th>cfi4</th>\n",
              "      <th>cfi5</th>\n",
              "      <th>cfi6</th>\n",
              "      <th>cfi7</th>\n",
              "      <th>cfi8</th>\n",
              "      <th>cfi9</th>\n",
              "      <th>cfi10</th>\n",
              "      <th>cfi11</th>\n",
              "      <th>cfi12</th>\n",
              "      <th>cfi13</th>\n",
              "      <th>cfi14</th>\n",
              "      <th>cfi15</th>\n",
              "      <th>cfi16</th>\n",
              "      <th>cfi17</th>\n",
              "      <th>cfi18</th>\n",
              "      <th>cfi19</th>\n",
              "      <th>cfi20</th>\n",
              "      <th>cfi21</th>\n",
              "      <th>cfi22</th>\n",
              "      <th>Number of CFI questions answered yes</th>\n",
              "      <th>Unnamed: 29</th>\n",
              "      <th>CFIS</th>\n",
              "    </tr>\n",
              "  </thead>\n",
              "  <tbody>\n",
              "    <tr>\n",
              "      <th>0</th>\n",
              "      <td>1.0</td>\n",
              "      <td>0.0</td>\n",
              "      <td>0.0</td>\n",
              "      <td>0.0</td>\n",
              "      <td>1.0</td>\n",
              "      <td>0.0</td>\n",
              "      <td>0.0</td>\n",
              "      <td>0.0</td>\n",
              "      <td>0.0</td>\n",
              "      <td>0.0</td>\n",
              "      <td>0.0</td>\n",
              "      <td>0.0</td>\n",
              "      <td>1.0</td>\n",
              "      <td>0.0</td>\n",
              "      <td>0.0</td>\n",
              "      <td>0.0</td>\n",
              "      <td>0.0</td>\n",
              "      <td>0.0</td>\n",
              "      <td>0</td>\n",
              "      <td>0.0</td>\n",
              "      <td>0</td>\n",
              "      <td>1.0</td>\n",
              "      <td>4</td>\n",
              "      <td>22</td>\n",
              "      <td>0.181818</td>\n",
              "    </tr>\n",
              "    <tr>\n",
              "      <th>1</th>\n",
              "      <td>0.0</td>\n",
              "      <td>1.0</td>\n",
              "      <td>1.0</td>\n",
              "      <td>1.0</td>\n",
              "      <td>1.0</td>\n",
              "      <td>1.0</td>\n",
              "      <td>1.0</td>\n",
              "      <td>1.0</td>\n",
              "      <td>1.0</td>\n",
              "      <td>1.0</td>\n",
              "      <td>1.0</td>\n",
              "      <td>1.0</td>\n",
              "      <td>0.0</td>\n",
              "      <td>0.0</td>\n",
              "      <td>1.0</td>\n",
              "      <td>1.0</td>\n",
              "      <td>1.0</td>\n",
              "      <td>1.0</td>\n",
              "      <td>0</td>\n",
              "      <td>0.0</td>\n",
              "      <td>0</td>\n",
              "      <td>1.0</td>\n",
              "      <td>16</td>\n",
              "      <td>22</td>\n",
              "      <td>0.727273</td>\n",
              "    </tr>\n",
              "    <tr>\n",
              "      <th>2</th>\n",
              "      <td>0.0</td>\n",
              "      <td>0.0</td>\n",
              "      <td>0.0</td>\n",
              "      <td>0.0</td>\n",
              "      <td>0.0</td>\n",
              "      <td>0.0</td>\n",
              "      <td>0.0</td>\n",
              "      <td>0.0</td>\n",
              "      <td>0.0</td>\n",
              "      <td>0.0</td>\n",
              "      <td>0.0</td>\n",
              "      <td>0.0</td>\n",
              "      <td>0.0</td>\n",
              "      <td>0.0</td>\n",
              "      <td>0.0</td>\n",
              "      <td>0.0</td>\n",
              "      <td>0.0</td>\n",
              "      <td>1.0</td>\n",
              "      <td>1</td>\n",
              "      <td>0.0</td>\n",
              "      <td>0</td>\n",
              "      <td>0.0</td>\n",
              "      <td>2</td>\n",
              "      <td>22</td>\n",
              "      <td>0.090909</td>\n",
              "    </tr>\n",
              "    <tr>\n",
              "      <th>3</th>\n",
              "      <td>0.0</td>\n",
              "      <td>1.0</td>\n",
              "      <td>0.0</td>\n",
              "      <td>1.0</td>\n",
              "      <td>1.0</td>\n",
              "      <td>1.0</td>\n",
              "      <td>0.0</td>\n",
              "      <td>1.0</td>\n",
              "      <td>1.0</td>\n",
              "      <td>0.0</td>\n",
              "      <td>1.0</td>\n",
              "      <td>0.0</td>\n",
              "      <td>0.0</td>\n",
              "      <td>1.0</td>\n",
              "      <td>1.0</td>\n",
              "      <td>1.0</td>\n",
              "      <td>0.0</td>\n",
              "      <td>1.0</td>\n",
              "      <td>0</td>\n",
              "      <td>0.0</td>\n",
              "      <td>0</td>\n",
              "      <td>1.0</td>\n",
              "      <td>12</td>\n",
              "      <td>22</td>\n",
              "      <td>0.545455</td>\n",
              "    </tr>\n",
              "    <tr>\n",
              "      <th>4</th>\n",
              "      <td>0.0</td>\n",
              "      <td>0.0</td>\n",
              "      <td>0.0</td>\n",
              "      <td>1.0</td>\n",
              "      <td>0.0</td>\n",
              "      <td>0.0</td>\n",
              "      <td>0.0</td>\n",
              "      <td>0.0</td>\n",
              "      <td>0.0</td>\n",
              "      <td>0.0</td>\n",
              "      <td>0.0</td>\n",
              "      <td>0.0</td>\n",
              "      <td>0.0</td>\n",
              "      <td>0.0</td>\n",
              "      <td>0.0</td>\n",
              "      <td>0.0</td>\n",
              "      <td>0.0</td>\n",
              "      <td>0.0</td>\n",
              "      <td>0</td>\n",
              "      <td>0.0</td>\n",
              "      <td>0</td>\n",
              "      <td>0.0</td>\n",
              "      <td>1</td>\n",
              "      <td>22</td>\n",
              "      <td>0.045455</td>\n",
              "    </tr>\n",
              "    <tr>\n",
              "      <th>5</th>\n",
              "      <td>0.0</td>\n",
              "      <td>1.0</td>\n",
              "      <td>0.0</td>\n",
              "      <td>0.0</td>\n",
              "      <td>0.0</td>\n",
              "      <td>0.0</td>\n",
              "      <td>1.0</td>\n",
              "      <td>0.0</td>\n",
              "      <td>1.0</td>\n",
              "      <td>1.0</td>\n",
              "      <td>0.0</td>\n",
              "      <td>0.0</td>\n",
              "      <td>0.0</td>\n",
              "      <td>1.0</td>\n",
              "      <td>0.0</td>\n",
              "      <td>0.0</td>\n",
              "      <td>0.0</td>\n",
              "      <td>0.0</td>\n",
              "      <td>1</td>\n",
              "      <td>0.0</td>\n",
              "      <td>1</td>\n",
              "      <td>0.0</td>\n",
              "      <td>7</td>\n",
              "      <td>22</td>\n",
              "      <td>0.318182</td>\n",
              "    </tr>\n",
              "    <tr>\n",
              "      <th>6</th>\n",
              "      <td>0.0</td>\n",
              "      <td>1.0</td>\n",
              "      <td>0.0</td>\n",
              "      <td>0.0</td>\n",
              "      <td>0.0</td>\n",
              "      <td>1.0</td>\n",
              "      <td>0.0</td>\n",
              "      <td>0.0</td>\n",
              "      <td>0.0</td>\n",
              "      <td>0.0</td>\n",
              "      <td>0.0</td>\n",
              "      <td>0.0</td>\n",
              "      <td>0.0</td>\n",
              "      <td>0.0</td>\n",
              "      <td>0.0</td>\n",
              "      <td>0.0</td>\n",
              "      <td>0.0</td>\n",
              "      <td>0.0</td>\n",
              "      <td>0</td>\n",
              "      <td>0.0</td>\n",
              "      <td>0</td>\n",
              "      <td>0.0</td>\n",
              "      <td>2</td>\n",
              "      <td>22</td>\n",
              "      <td>0.090909</td>\n",
              "    </tr>\n",
              "    <tr>\n",
              "      <th>7</th>\n",
              "      <td>1.0</td>\n",
              "      <td>1.0</td>\n",
              "      <td>0.0</td>\n",
              "      <td>1.0</td>\n",
              "      <td>0.0</td>\n",
              "      <td>1.0</td>\n",
              "      <td>1.0</td>\n",
              "      <td>1.0</td>\n",
              "      <td>1.0</td>\n",
              "      <td>0.0</td>\n",
              "      <td>0.0</td>\n",
              "      <td>1.0</td>\n",
              "      <td>0.0</td>\n",
              "      <td>0.0</td>\n",
              "      <td>0.0</td>\n",
              "      <td>1.0</td>\n",
              "      <td>1.0</td>\n",
              "      <td>1.0</td>\n",
              "      <td>1</td>\n",
              "      <td>0.0</td>\n",
              "      <td>0</td>\n",
              "      <td>1.0</td>\n",
              "      <td>13</td>\n",
              "      <td>22</td>\n",
              "      <td>0.590909</td>\n",
              "    </tr>\n",
              "    <tr>\n",
              "      <th>8</th>\n",
              "      <td>1.0</td>\n",
              "      <td>0.0</td>\n",
              "      <td>0.0</td>\n",
              "      <td>1.0</td>\n",
              "      <td>1.0</td>\n",
              "      <td>1.0</td>\n",
              "      <td>0.0</td>\n",
              "      <td>0.0</td>\n",
              "      <td>0.0</td>\n",
              "      <td>0.0</td>\n",
              "      <td>0.0</td>\n",
              "      <td>0.0</td>\n",
              "      <td>0.0</td>\n",
              "      <td>0.0</td>\n",
              "      <td>0.0</td>\n",
              "      <td>0.0</td>\n",
              "      <td>0.0</td>\n",
              "      <td>0.0</td>\n",
              "      <td>0</td>\n",
              "      <td>0.0</td>\n",
              "      <td>0</td>\n",
              "      <td>0.0</td>\n",
              "      <td>4</td>\n",
              "      <td>22</td>\n",
              "      <td>0.181818</td>\n",
              "    </tr>\n",
              "    <tr>\n",
              "      <th>9</th>\n",
              "      <td>1.0</td>\n",
              "      <td>0.0</td>\n",
              "      <td>-1.0</td>\n",
              "      <td>1.0</td>\n",
              "      <td>1.0</td>\n",
              "      <td>1.0</td>\n",
              "      <td>1.0</td>\n",
              "      <td>1.0</td>\n",
              "      <td>0.0</td>\n",
              "      <td>1.0</td>\n",
              "      <td>1.0</td>\n",
              "      <td>0.0</td>\n",
              "      <td>1.0</td>\n",
              "      <td>0.0</td>\n",
              "      <td>0.0</td>\n",
              "      <td>1.0</td>\n",
              "      <td>0.0</td>\n",
              "      <td>-1.0</td>\n",
              "      <td>1</td>\n",
              "      <td>0.0</td>\n",
              "      <td>0</td>\n",
              "      <td>0.0</td>\n",
              "      <td>11</td>\n",
              "      <td>20</td>\n",
              "      <td>0.550000</td>\n",
              "    </tr>\n",
              "    <tr>\n",
              "      <th>10</th>\n",
              "      <td>1.0</td>\n",
              "      <td>0.0</td>\n",
              "      <td>0.0</td>\n",
              "      <td>0.0</td>\n",
              "      <td>0.0</td>\n",
              "      <td>0.0</td>\n",
              "      <td>0.0</td>\n",
              "      <td>1.0</td>\n",
              "      <td>1.0</td>\n",
              "      <td>0.0</td>\n",
              "      <td>0.0</td>\n",
              "      <td>0.0</td>\n",
              "      <td>1.0</td>\n",
              "      <td>0.0</td>\n",
              "      <td>0.0</td>\n",
              "      <td>1.0</td>\n",
              "      <td>0.0</td>\n",
              "      <td>0.0</td>\n",
              "      <td>0</td>\n",
              "      <td>0.0</td>\n",
              "      <td>0</td>\n",
              "      <td>0.0</td>\n",
              "      <td>5</td>\n",
              "      <td>22</td>\n",
              "      <td>0.227273</td>\n",
              "    </tr>\n",
              "    <tr>\n",
              "      <th>11</th>\n",
              "      <td>0.0</td>\n",
              "      <td>0.0</td>\n",
              "      <td>0.0</td>\n",
              "      <td>0.0</td>\n",
              "      <td>0.0</td>\n",
              "      <td>1.0</td>\n",
              "      <td>0.0</td>\n",
              "      <td>0.0</td>\n",
              "      <td>0.0</td>\n",
              "      <td>-1.0</td>\n",
              "      <td>-1.0</td>\n",
              "      <td>0.0</td>\n",
              "      <td>0.0</td>\n",
              "      <td>0.0</td>\n",
              "      <td>1.0</td>\n",
              "      <td>0.0</td>\n",
              "      <td>0.0</td>\n",
              "      <td>-1.0</td>\n",
              "      <td>0</td>\n",
              "      <td>0.0</td>\n",
              "      <td>0</td>\n",
              "      <td>0.0</td>\n",
              "      <td>2</td>\n",
              "      <td>19</td>\n",
              "      <td>0.105263</td>\n",
              "    </tr>\n",
              "    <tr>\n",
              "      <th>12</th>\n",
              "      <td>0.0</td>\n",
              "      <td>0.0</td>\n",
              "      <td>0.0</td>\n",
              "      <td>0.0</td>\n",
              "      <td>1.0</td>\n",
              "      <td>0.0</td>\n",
              "      <td>1.0</td>\n",
              "      <td>1.0</td>\n",
              "      <td>-1.0</td>\n",
              "      <td>1.0</td>\n",
              "      <td>0.0</td>\n",
              "      <td>0.0</td>\n",
              "      <td>0.0</td>\n",
              "      <td>0.0</td>\n",
              "      <td>0.0</td>\n",
              "      <td>0.0</td>\n",
              "      <td>0.0</td>\n",
              "      <td>0.0</td>\n",
              "      <td>0</td>\n",
              "      <td>0.0</td>\n",
              "      <td>0</td>\n",
              "      <td>1.0</td>\n",
              "      <td>5</td>\n",
              "      <td>21</td>\n",
              "      <td>0.238095</td>\n",
              "    </tr>\n",
              "    <tr>\n",
              "      <th>13</th>\n",
              "      <td>-1.0</td>\n",
              "      <td>0.0</td>\n",
              "      <td>0.0</td>\n",
              "      <td>0.0</td>\n",
              "      <td>1.0</td>\n",
              "      <td>0.0</td>\n",
              "      <td>0.0</td>\n",
              "      <td>0.0</td>\n",
              "      <td>0.0</td>\n",
              "      <td>0.0</td>\n",
              "      <td>0.0</td>\n",
              "      <td>0.0</td>\n",
              "      <td>1.0</td>\n",
              "      <td>0.0</td>\n",
              "      <td>0.0</td>\n",
              "      <td>0.0</td>\n",
              "      <td>0.0</td>\n",
              "      <td>0.0</td>\n",
              "      <td>0</td>\n",
              "      <td>0.0</td>\n",
              "      <td>1</td>\n",
              "      <td>0.0</td>\n",
              "      <td>3</td>\n",
              "      <td>21</td>\n",
              "      <td>0.142857</td>\n",
              "    </tr>\n",
              "    <tr>\n",
              "      <th>14</th>\n",
              "      <td>0.0</td>\n",
              "      <td>0.0</td>\n",
              "      <td>0.0</td>\n",
              "      <td>0.0</td>\n",
              "      <td>0.0</td>\n",
              "      <td>0.0</td>\n",
              "      <td>0.0</td>\n",
              "      <td>0.0</td>\n",
              "      <td>0.0</td>\n",
              "      <td>0.0</td>\n",
              "      <td>0.0</td>\n",
              "      <td>0.0</td>\n",
              "      <td>0.0</td>\n",
              "      <td>0.0</td>\n",
              "      <td>-1.0</td>\n",
              "      <td>0.0</td>\n",
              "      <td>0.0</td>\n",
              "      <td>0.0</td>\n",
              "      <td>0</td>\n",
              "      <td>0.0</td>\n",
              "      <td>0</td>\n",
              "      <td>0.0</td>\n",
              "      <td>0</td>\n",
              "      <td>21</td>\n",
              "      <td>0.000000</td>\n",
              "    </tr>\n",
              "    <tr>\n",
              "      <th>15</th>\n",
              "      <td>0.0</td>\n",
              "      <td>0.0</td>\n",
              "      <td>0.0</td>\n",
              "      <td>0.0</td>\n",
              "      <td>0.0</td>\n",
              "      <td>1.0</td>\n",
              "      <td>1.0</td>\n",
              "      <td>0.0</td>\n",
              "      <td>0.0</td>\n",
              "      <td>0.0</td>\n",
              "      <td>0.0</td>\n",
              "      <td>0.0</td>\n",
              "      <td>0.0</td>\n",
              "      <td>0.0</td>\n",
              "      <td>0.0</td>\n",
              "      <td>0.0</td>\n",
              "      <td>0.0</td>\n",
              "      <td>0.0</td>\n",
              "      <td>0</td>\n",
              "      <td>0.0</td>\n",
              "      <td>0</td>\n",
              "      <td>1.0</td>\n",
              "      <td>3</td>\n",
              "      <td>22</td>\n",
              "      <td>0.136364</td>\n",
              "    </tr>\n",
              "  </tbody>\n",
              "</table>\n",
              "</div>"
            ],
            "text/plain": [
              "    cfi1  cfi2  ...  Unnamed: 29      CFIS\n",
              "0    1.0   0.0  ...           22  0.181818\n",
              "1    0.0   1.0  ...           22  0.727273\n",
              "2    0.0   0.0  ...           22  0.090909\n",
              "3    0.0   1.0  ...           22  0.545455\n",
              "4    0.0   0.0  ...           22  0.045455\n",
              "5    0.0   1.0  ...           22  0.318182\n",
              "6    0.0   1.0  ...           22  0.090909\n",
              "7    1.0   1.0  ...           22  0.590909\n",
              "8    1.0   0.0  ...           22  0.181818\n",
              "9    1.0   0.0  ...           20  0.550000\n",
              "10   1.0   0.0  ...           22  0.227273\n",
              "11   0.0   0.0  ...           19  0.105263\n",
              "12   0.0   0.0  ...           21  0.238095\n",
              "13  -1.0   0.0  ...           21  0.142857\n",
              "14   0.0   0.0  ...           21  0.000000\n",
              "15   0.0   0.0  ...           22  0.136364\n",
              "\n",
              "[16 rows x 25 columns]"
            ]
          },
          "metadata": {},
          "execution_count": 9
        }
      ]
    },
    {
      "cell_type": "code",
      "metadata": {
        "id": "RDYDNoRMf8zF"
      },
      "source": [
        "# id = df_data.iloc[:491,0].values\n",
        "id = df_data.iloc[:491,1].values\n",
        "# id"
      ],
      "execution_count": 100,
      "outputs": []
    },
    {
      "cell_type": "code",
      "metadata": {
        "colab": {
          "base_uri": "https://localhost:8080/"
        },
        "id": "IWUP4FHJxehh",
        "outputId": "9e1a7346-4a6f-46eb-aefb-b6d4e518018d"
      },
      "source": [
        "data = df_data.iloc[:491,6:31].values\n",
        "data.shape, data"
      ],
      "execution_count": 11,
      "outputs": [
        {
          "output_type": "execute_result",
          "data": {
            "text/plain": [
              "((482, 25), array([[ 1.        ,  0.        ,  0.        , ...,  4.        ,\n",
              "         22.        ,  0.18181818],\n",
              "        [ 0.        ,  1.        ,  1.        , ..., 16.        ,\n",
              "         22.        ,  0.72727273],\n",
              "        [ 0.        ,  0.        ,  0.        , ...,  2.        ,\n",
              "         22.        ,  0.09090909],\n",
              "        ...,\n",
              "        [ 1.        ,  0.        ,  0.        , ...,  6.        ,\n",
              "         21.        ,  0.28571429],\n",
              "        [ 0.        ,  0.        ,  0.        , ...,  8.        ,\n",
              "         22.        ,  0.36363636],\n",
              "        [ 0.        ,  0.        ,  0.        , ...,  5.        ,\n",
              "         22.        ,  0.22727273]]))"
            ]
          },
          "metadata": {},
          "execution_count": 11
        }
      ]
    },
    {
      "cell_type": "code",
      "metadata": {
        "colab": {
          "base_uri": "https://localhost:8080/"
        },
        "id": "HIVoxUKBVv8W",
        "outputId": "37c383cf-cd8e-4b0a-d4e5-a3f34e85e549"
      },
      "source": [
        "data.shape"
      ],
      "execution_count": 14,
      "outputs": [
        {
          "output_type": "execute_result",
          "data": {
            "text/plain": [
              "(482, 25)"
            ]
          },
          "metadata": {},
          "execution_count": 14
        }
      ]
    },
    {
      "cell_type": "code",
      "metadata": {
        "id": "M5qlik6WJlEt",
        "colab": {
          "base_uri": "https://localhost:8080/"
        },
        "outputId": "9e66a939-d477-486d-bf72-74cb6c5e4b38"
      },
      "source": [
        "df_data.iloc[0:16,32]"
      ],
      "execution_count": 15,
      "outputs": [
        {
          "output_type": "execute_result",
          "data": {
            "text/plain": [
              "0     0\n",
              "1     0\n",
              "2     0\n",
              "3     0\n",
              "4     0\n",
              "5     0\n",
              "6     0\n",
              "7     0\n",
              "8     0\n",
              "9     1\n",
              "10    0\n",
              "11    0\n",
              "12    0\n",
              "13    0\n",
              "14    0\n",
              "15    0\n",
              "Name: SI, dtype: int64"
            ]
          },
          "metadata": {},
          "execution_count": 15
        }
      ]
    },
    {
      "cell_type": "code",
      "metadata": {
        "colab": {
          "base_uri": "https://localhost:8080/"
        },
        "id": "43-cmGyCyvfY",
        "outputId": "d5ffa07a-5b67-4cdf-d0cb-3c93596eb80e"
      },
      "source": [
        "label = df_data.iloc[:,32].values\n",
        "label = np.array([1 if i > 0 else 0 for i in label])\n",
        "len(label), label"
      ],
      "execution_count": 18,
      "outputs": [
        {
          "output_type": "execute_result",
          "data": {
            "text/plain": [
              "(482, array([0, 0, 0, 0, 0, 0, 0, 0, 0, 1, 0, 0, 0, 0, 0, 0, 0, 0, 1, 0, 1, 1,\n",
              "        0, 0, 0, 0, 0, 0, 0, 1, 0, 0, 1, 0, 1, 0, 0, 0, 1, 0, 0, 1, 0, 0,\n",
              "        0, 0, 0, 0, 0, 0, 0, 0, 0, 0, 0, 0, 0, 0, 0, 1, 0, 0, 0, 1, 1, 0,\n",
              "        0, 1, 0, 0, 0, 0, 0, 1, 1, 0, 1, 0, 0, 0, 0, 0, 0, 0, 1, 0, 1, 0,\n",
              "        1, 0, 0, 0, 0, 0, 0, 1, 0, 0, 0, 1, 0, 0, 1, 0, 1, 1, 0, 0, 0, 0,\n",
              "        0, 0, 0, 1, 1, 0, 1, 0, 1, 1, 0, 0, 1, 0, 0, 0, 1, 1, 1, 0, 0, 0,\n",
              "        0, 0, 1, 0, 0, 0, 0, 0, 0, 0, 0, 1, 0, 0, 1, 0, 0, 0, 0, 0, 0, 1,\n",
              "        0, 0, 0, 0, 0, 1, 0, 1, 0, 0, 0, 0, 0, 0, 0, 0, 0, 0, 0, 1, 0, 1,\n",
              "        0, 1, 0, 0, 0, 0, 1, 0, 0, 0, 0, 0, 1, 0, 0, 1, 1, 0, 0, 0, 0, 0,\n",
              "        1, 0, 0, 0, 0, 0, 0, 0, 1, 0, 0, 0, 0, 0, 0, 0, 0, 0, 1, 1, 0, 1,\n",
              "        1, 0, 0, 0, 0, 1, 0, 0, 0, 0, 0, 0, 0, 0, 0, 0, 0, 1, 0, 0, 0, 0,\n",
              "        1, 0, 0, 1, 1, 1, 0, 0, 0, 0, 1, 0, 0, 0, 0, 0, 0, 0, 0, 0, 1, 0,\n",
              "        0, 0, 0, 0, 1, 1, 1, 0, 0, 0, 0, 0, 0, 0, 0, 0, 0, 0, 1, 0, 0, 0,\n",
              "        0, 0, 0, 0, 0, 1, 0, 0, 0, 0, 0, 1, 1, 1, 0, 1, 0, 0, 1, 0, 0, 0,\n",
              "        0, 1, 0, 1, 0, 0, 0, 1, 1, 0, 0, 0, 0, 1, 0, 0, 0, 1, 1, 1, 0, 1,\n",
              "        0, 1, 1, 1, 0, 1, 0, 1, 0, 0, 0, 0, 0, 1, 0, 0, 0, 0, 1, 0, 0, 0,\n",
              "        0, 0, 0, 0, 1, 0, 0, 0, 0, 0, 0, 0, 0, 1, 0, 0, 1, 0, 0, 1, 1, 0,\n",
              "        0, 0, 0, 0, 0, 0, 0, 0, 0, 1, 0, 0, 1, 0, 1, 0, 1, 0, 0, 0, 0, 0,\n",
              "        0, 0, 0, 0, 0, 0, 0, 1, 0, 0, 0, 0, 1, 0, 0, 0, 0, 0, 0, 0, 0, 0,\n",
              "        0, 0, 1, 0, 0, 0, 0, 0, 0, 0, 0, 1, 0, 0, 0, 0, 0, 0, 0, 0, 0, 0,\n",
              "        1, 0, 0, 0, 0, 0, 0, 0, 0, 0, 0, 0, 0, 0, 1, 0, 1, 0, 0, 0, 0, 1,\n",
              "        0, 0, 0, 1, 0, 0, 0, 0, 0, 0, 0, 0, 0, 0, 1, 0, 1, 0, 0, 0]))"
            ]
          },
          "metadata": {},
          "execution_count": 18
        }
      ]
    },
    {
      "cell_type": "markdown",
      "metadata": {
        "id": "F9Qs1_rszIAg"
      },
      "source": [
        "## Visualize Discovery and Test Cohorts"
      ]
    },
    {
      "cell_type": "code",
      "metadata": {
        "id": "xrw6LA6JgJyN"
      },
      "source": [
        "id_index_train = []\n",
        "for ind in index_train:\n",
        "  id_index_train.append(np.where(id == ind)[0][0])\n",
        "# id_index_train"
      ],
      "execution_count": 98,
      "outputs": []
    },
    {
      "cell_type": "code",
      "metadata": {
        "id": "zS0G6QAtzsIp"
      },
      "source": [
        "id_index_test = []\n",
        "for ind in index_test:\n",
        "  id_index_test.append(np.where(id == ind)[0][0])\n",
        "# id_index_test"
      ],
      "execution_count": 99,
      "outputs": []
    },
    {
      "cell_type": "code",
      "metadata": {
        "colab": {
          "base_uri": "https://localhost:8080/"
        },
        "id": "j22cRqPFzxJi",
        "outputId": "063d3714-0ad8-4637-e7f6-966dc2baa374"
      },
      "source": [
        "len(id_index_train), len(id_index_test)"
      ],
      "execution_count": 21,
      "outputs": [
        {
          "output_type": "execute_result",
          "data": {
            "text/plain": [
              "(255, 227)"
            ]
          },
          "metadata": {},
          "execution_count": 21
        }
      ]
    },
    {
      "cell_type": "code",
      "metadata": {
        "colab": {
          "base_uri": "https://localhost:8080/"
        },
        "id": "40pMpSHJdp88",
        "outputId": "77ac52e1-5a9d-4377-c985-002bfe66cb1b"
      },
      "source": [
        "train_data = data[id_index_train]\n",
        "train_label = label[id_index_train]\n",
        "train_data.shape, len(train_label), train_data"
      ],
      "execution_count": 22,
      "outputs": [
        {
          "output_type": "execute_result",
          "data": {
            "text/plain": [
              "((255, 25),\n",
              " 255,\n",
              " array([[ 1.        ,  0.        ,  0.        , ...,  4.        ,\n",
              "         22.        ,  0.18181818],\n",
              "        [ 0.        ,  1.        ,  1.        , ..., 16.        ,\n",
              "         22.        ,  0.72727273],\n",
              "        [ 0.        ,  0.        ,  0.        , ...,  2.        ,\n",
              "         22.        ,  0.09090909],\n",
              "        ...,\n",
              "        [ 0.        ,  0.        ,  0.        , ..., 12.        ,\n",
              "         20.        ,  0.6       ],\n",
              "        [ 0.        ,  0.        ,  0.        , ...,  7.        ,\n",
              "         21.        ,  0.33333333],\n",
              "        [ 0.        ,  0.        ,  0.        , ...,  5.        ,\n",
              "         22.        ,  0.22727273]]))"
            ]
          },
          "metadata": {},
          "execution_count": 22
        }
      ]
    },
    {
      "cell_type": "code",
      "metadata": {
        "colab": {
          "base_uri": "https://localhost:8080/"
        },
        "id": "GKMZg-0Rz44T",
        "outputId": "5c4fe0a0-27d9-4ad8-ade0-eac18145b9ce"
      },
      "source": [
        "test_data = data[id_index_test]\n",
        "test_label = label[id_index_test]\n",
        "test_data.shape, len(test_label), test_data"
      ],
      "execution_count": 23,
      "outputs": [
        {
          "output_type": "execute_result",
          "data": {
            "text/plain": [
              "((227, 25),\n",
              " 227,\n",
              " array([[ 0.        ,  0.        ,  1.        , ..., 10.        ,\n",
              "         22.        ,  0.45454545],\n",
              "        [ 1.        ,  0.        ,  1.        , ..., 17.        ,\n",
              "         22.        ,  0.77272727],\n",
              "        [ 0.        ,  0.        ,  0.        , ...,  9.        ,\n",
              "         22.        ,  0.40909091],\n",
              "        ...,\n",
              "        [ 1.        ,  1.        ,  1.        , ..., 15.        ,\n",
              "         21.        ,  0.71428571],\n",
              "        [ 1.        ,  0.        ,  0.        , ...,  6.        ,\n",
              "         21.        ,  0.28571429],\n",
              "        [ 0.        ,  0.        ,  0.        , ...,  8.        ,\n",
              "         22.        ,  0.36363636]]))"
            ]
          },
          "metadata": {},
          "execution_count": 23
        }
      ]
    },
    {
      "cell_type": "code",
      "metadata": {
        "id": "2dfC1rfRpKBV",
        "colab": {
          "base_uri": "https://localhost:8080/"
        },
        "outputId": "85cccdeb-b6ac-4753-962b-8df8af42fded"
      },
      "source": [
        "CFI_train = train_data[:,-1]\n",
        "CFI_test = test_data[:,-1]\n",
        "# MS_train = train_data[:,-1]\n",
        "# MS_test = test_data[:,-1]\n",
        "CFI_score = np.reshape(data[:,-1],(len(data[:,-1]),1))\n",
        "CFI_score.shape"
      ],
      "execution_count": 24,
      "outputs": [
        {
          "output_type": "execute_result",
          "data": {
            "text/plain": [
              "(482, 1)"
            ]
          },
          "metadata": {},
          "execution_count": 24
        }
      ]
    },
    {
      "cell_type": "markdown",
      "metadata": {
        "id": "KOY5Ar3MT3yZ"
      },
      "source": [
        "### Visualizing data"
      ]
    },
    {
      "cell_type": "code",
      "metadata": {
        "colab": {
          "base_uri": "https://localhost:8080/",
          "height": 441
        },
        "id": "ovNXxnidT2-_",
        "outputId": "4ac8526c-cbfb-4812-afe1-be687a2f8e4e"
      },
      "source": [
        "import matplotlib.pyplot as plt \n",
        "x_train = range(len(CFI_train))\n",
        "x_test = range(len(CFI_test))\n",
        "# y = CFI_score\n",
        "colors_train = np.array(train_label)\n",
        "colors_test = np.array(test_label)\n",
        "fig,ax = plt.subplots(figsize=(2,2.5),dpi = 150)\n",
        "scatter1 = plt.scatter(x_train, CFI_train, c=colors_train, alpha=0.5,\n",
        "            cmap='Set1_r', label = colors_train, s=14)\n",
        "legend1 = plt.legend(*scatter1.legend_elements(),\n",
        "                    bbox_to_anchor=(1.0, 0.3), loc=2,title=\"Discovery\")\n",
        "ax = plt.gca().add_artist(legend1)\n",
        "scatter = plt.scatter(x_test, CFI_test, c=colors_test, alpha=0.5,\n",
        "            cmap='Set1_r', label = colors_test, marker = 'X',s=28)\n",
        "\n",
        "legend = plt.legend(*scatter.legend_elements(),\n",
        "                    bbox_to_anchor=(1.0, 1), loc=2, title=\"Test\")\n",
        "plt.title('Data Visualization')\n",
        "# plt.legend(legend1)\n",
        "# plt.colorbar();  # show color scale\n",
        "plt.xlabel('ID')\n",
        "plt.ylabel('CFI-S')\n",
        "# print(sum(label_train)/len(label_train), sum(label_test)/len(label_test))"
      ],
      "execution_count": 95,
      "outputs": [
        {
          "output_type": "execute_result",
          "data": {
            "text/plain": [
              "Text(0, 0.5, 'CFI-S')"
            ]
          },
          "metadata": {},
          "execution_count": 95
        },
        {
          "output_type": "display_data",
          "data": {
            "image/png": "[encoded data removed]",
            "text/plain": [
              "<Figure size 300x375 with 1 Axes>"
            ]
          },
          "metadata": {
            "needs_background": "light"
          }
        }
      ]
    },
    {
      "cell_type": "code",
      "metadata": {
        "colab": {
          "base_uri": "https://localhost:8080/"
        },
        "id": "tEZK5fsteGpi",
        "outputId": "766bada3-18c1-4c15-ada2-71d5a50e75c7"
      },
      "source": [
        "!pip uninstall umap\n",
        "!pip install umap-learn"
      ],
      "execution_count": null,
      "outputs": [
        {
          "output_type": "stream",
          "name": "stdout",
          "text": [
            "\u001b[33mWARNING: Skipping umap as it is not installed.\u001b[0m\n",
            "Collecting umap-learn\n",
            "  Downloading umap-learn-0.5.2.tar.gz (86 kB)\n",
            "\u001b[K     |████████████████████████████████| 86 kB 2.4 MB/s \n",
            "\u001b[?25hRequirement already satisfied: numpy>=1.17 in /usr/local/lib/python3.7/dist-packages (from umap-learn) (1.19.5)\n",
            "Requirement already satisfied: scikit-learn>=0.22 in /usr/local/lib/python3.7/dist-packages (from umap-learn) (0.22.2.post1)\n",
            "Requirement already satisfied: scipy>=1.0 in /usr/local/lib/python3.7/dist-packages (from umap-learn) (1.4.1)\n",
            "Requirement already satisfied: numba>=0.49 in /usr/local/lib/python3.7/dist-packages (from umap-learn) (0.51.2)\n",
            "Collecting pynndescent>=0.5\n",
            "  Downloading pynndescent-0.5.5.tar.gz (1.1 MB)\n",
            "\u001b[K     |████████████████████████████████| 1.1 MB 10.3 MB/s \n",
            "\u001b[?25hRequirement already satisfied: tqdm in /usr/local/lib/python3.7/dist-packages (from umap-learn) (4.62.3)\n",
            "Requirement already satisfied: setuptools in /usr/local/lib/python3.7/dist-packages (from numba>=0.49->umap-learn) (57.4.0)\n",
            "Requirement already satisfied: llvmlite<0.35,>=0.34.0.dev0 in /usr/local/lib/python3.7/dist-packages (from numba>=0.49->umap-learn) (0.34.0)\n",
            "Requirement already satisfied: joblib>=0.11 in /usr/local/lib/python3.7/dist-packages (from pynndescent>=0.5->umap-learn) (1.1.0)\n",
            "Building wheels for collected packages: umap-learn, pynndescent\n",
            "  Building wheel for umap-learn (setup.py) ... \u001b[?25l\u001b[?25hdone\n",
            "  Created wheel for umap-learn: filename=umap_learn-0.5.2-py3-none-any.whl size=82709 sha256=bb1ccd3260f60232c1e34ac4b61b2ad77c0e5c205e144a0f69761ecf6a346d5e\n",
            "  Stored in directory: /root/.cache/pip/wheels/84/1b/c6/aaf68a748122632967cef4dffef68224eb16798b6793257d82\n",
            "  Building wheel for pynndescent (setup.py) ... \u001b[?25l\u001b[?25hdone\n",
            "  Created wheel for pynndescent: filename=pynndescent-0.5.5-py3-none-any.whl size=52603 sha256=3354e970607f40b0ee46610361ccfae9943ae062a5715d58d81b0c57c0d88e48\n",
            "  Stored in directory: /root/.cache/pip/wheels/af/e9/33/04db1436df0757c42fda8ea6796d7a8586e23c85fac355f476\n",
            "Successfully built umap-learn pynndescent\n",
            "Installing collected packages: pynndescent, umap-learn\n",
            "Successfully installed pynndescent-0.5.5 umap-learn-0.5.2\n"
          ]
        }
      ]
    },
    {
      "cell_type": "code",
      "metadata": {
        "colab": {
          "base_uri": "https://localhost:8080/",
          "height": 441
        },
        "id": "0kTe_8SndoF9",
        "outputId": "fee2e31b-a978-42fd-e765-542b22a6f746"
      },
      "source": [
        "# import umap\n",
        "import umap.umap_ as umap\n",
        "from sklearn.preprocessing import StandardScaler\n",
        "reducer = umap.UMAP()\n",
        "scaled_data = StandardScaler().fit_transform(data)\n",
        "embedding = reducer.fit_transform(scaled_data)\n",
        "print(embedding.shape)\n",
        "\n",
        "colors_train = ['With SI' if i == 1 else 'No SI' for i in np.array(train_label)]\n",
        "colors_test = ['With SI' if i == 1 else 'No SI' for i in np.array(test_label)]\n",
        "\n",
        "fig,ax = plt.subplots(figsize=(2,2.5),dpi = 150)\n",
        "scatter1 = plt.scatter(\n",
        "    embedding[:len(train_data), 0],\n",
        "    embedding[:len(train_data), 1],\n",
        "    cmap='Set1_r',\n",
        "    alpha=0.5,\n",
        "    c=train_label,\n",
        "    label=colors_train,\n",
        "    s = 14)\n",
        "# plt.legend()\n",
        "legend1 = plt.legend(handles=scatter.legend_elements()[0], labels=colors_test,\n",
        "                    bbox_to_anchor=(1.0, 0.4), loc=2,title=\"Discovery\")\n",
        "ax = plt.gca().add_artist(legend1)\n",
        "\n",
        "scatter = plt.scatter(\n",
        "    embedding[len(train_data):, 0],\n",
        "    embedding[len(train_data):, 1],\n",
        "    cmap='Set1_r',\n",
        "    alpha=0.5,\n",
        "    c=test_label,\n",
        "    label=colors_test,\n",
        "    marker = 'X',\n",
        "    s = 28)\n",
        "legend = plt.legend(handles=scatter.legend_elements()[0], labels=colors_test,bbox_to_anchor=(1.0, 1), loc=2,title=\"Test\")\n",
        "\n",
        "# legend = plt.legend(*scatter.legend_elements(),\n",
        "#                     bbox_to_anchor=(1.0, 1), loc=2, title=\"Test\")\n",
        "# plt.gca().set_aspect('equal', 'datalim')\n",
        "plt.title('UMAP Projection')\n",
        "plt.xlabel('Embedding 0')\n",
        "plt.ylabel('Embedding 1')\n",
        "# plt.legend()"
      ],
      "execution_count": null,
      "outputs": [
        {
          "output_type": "execute_result",
          "data": {
            "text/plain": [
              "Text(0, 0.5, 'Embedding 1')"
            ]
          },
          "metadata": {},
          "execution_count": 61
        },
        {
          "output_type": "display_data",
          "data": {
            "image/png": "[encoded data removed]",
            "text/plain": [
              "<Figure size 300x375 with 1 Axes>"
            ]
          },
          "metadata": {
            "needs_background": "light"
          }
        }
      ]
    },
    {
      "cell_type": "markdown",
      "metadata": {
        "id": "_p3vqEVWPH8L"
      },
      "source": [
        "## Network Visualization"
      ]
    },
    {
      "cell_type": "code",
      "metadata": {
        "colab": {
          "base_uri": "https://localhost:8080/"
        },
        "id": "kNGKurumPKKt",
        "outputId": "82d9f98c-6248-44c0-bf8d-8ef3cb340089"
      },
      "source": [
        "labels = label\n",
        "nodes = []\n",
        "X= data ## Node Features Matrix\n",
        "N=X.shape[0] ## the number of nodes\n",
        "F=X.shape[1] ## the number of features\n",
        "print(N,F)\n",
        "print(len(labels))"
      ],
      "execution_count": 25,
      "outputs": [
        {
          "output_type": "stream",
          "name": "stdout",
          "text": [
            "482 25\n",
            "482\n"
          ]
        }
      ]
    },
    {
      "cell_type": "code",
      "metadata": {
        "colab": {
          "base_uri": "https://localhost:8080/"
        },
        "id": "Equ_DKQsP_ia",
        "outputId": "02c14935-f8e8-42d3-8021-dddb654e4db0"
      },
      "source": [
        "from scipy import spatial\n",
        "A = np.zeros((N,N))\n",
        "for i in range(N):\n",
        "  for j in range(N):\n",
        "    distance = spatial.distance.cosine(list(X[i]), list(X[j]))\n",
        "    if 0<distance < 0.005:\n",
        "      A[i,j]=distance\n",
        "A"
      ],
      "execution_count": 26,
      "outputs": [
        {
          "output_type": "execute_result",
          "data": {
            "text/plain": [
              "array([[0., 0., 0., ..., 0., 0., 0.],\n",
              "       [0., 0., 0., ..., 0., 0., 0.],\n",
              "       [0., 0., 0., ..., 0., 0., 0.],\n",
              "       ...,\n",
              "       [0., 0., 0., ..., 0., 0., 0.],\n",
              "       [0., 0., 0., ..., 0., 0., 0.],\n",
              "       [0., 0., 0., ..., 0., 0., 0.]])"
            ]
          },
          "metadata": {},
          "execution_count": 26
        }
      ]
    },
    {
      "cell_type": "code",
      "metadata": {
        "colab": {
          "base_uri": "https://localhost:8080/"
        },
        "id": "K5ZDG-KtR2SA",
        "outputId": "0cb71079-888c-4f2f-b8d2-fa158006b4cd"
      },
      "source": [
        "import networkx as nx    \n",
        "import matplotlib\n",
        "cmap = matplotlib.colors.ListedColormap(['lightsteelblue', 'wheat', 'red'])                                 \n",
        "G =  nx.from_numpy_matrix(A)\n",
        "print(nx.info(G))\n",
        "\n",
        "a = (A > 0).astype(np.int_).sum(axis=1)*10\n",
        "# a"
      ],
      "execution_count": 96,
      "outputs": [
        {
          "output_type": "stream",
          "name": "stdout",
          "text": [
            "Graph with 482 nodes and 3619 edges\n"
          ]
        }
      ]
    },
    {
      "cell_type": "code",
      "metadata": {
        "colab": {
          "base_uri": "https://localhost:8080/",
          "height": 336
        },
        "id": "UY3F93ehtLmc",
        "outputId": "3359525d-feea-42aa-c260-f29c13f07d49"
      },
      "source": [
        "label[-1] = 2\n",
        "my_pos = nx.spring_layout(G, seed = 100)\n",
        "nx.draw(G, node_size=a, node_color=label, edgecolors='lightgrey',with_labels=False,cmap=cmap, pos=my_pos,edge_color='grey')\n",
        "# nx.write_gexf(G, \"test.gexf\")\n",
        "print('Blue and yellow dots are patients without and with SI in our dataset. The red dot is where you are.')"
      ],
      "execution_count": 97,
      "outputs": [
        {
          "output_type": "stream",
          "name": "stdout",
          "text": [
            "Blue and yellow dots are patients without and with SI in our dataset. The red dot is where you are.\n"
          ]
        },
        {
          "output_type": "display_data",
          "data": {
            "image/png": "[encoded data removed]",
            "text/plain": [
              "<Figure size 432x288 with 1 Axes>"
            ]
          },
          "metadata": {}
        }
      ]
    },
    {
      "cell_type": "markdown",
      "metadata": {
        "id": "ia8GWJOuTvmR"
      },
      "source": [
        "## Predict your SI"
      ]
    },
    {
      "cell_type": "markdown",
      "metadata": {
        "id": "xCAVb4mKUlOK"
      },
      "source": [
        "### Data preparation"
      ]
    },
    {
      "cell_type": "code",
      "metadata": {
        "id": "jRWZamPxTQx_"
      },
      "source": [
        "import tensorflow as tf\n",
        "label_onehot = np.array(tf.one_hot(labels, depth=2))"
      ],
      "execution_count": 30,
      "outputs": []
    },
    {
      "cell_type": "code",
      "metadata": {
        "id": "vRCSr0JeV5hh",
        "colab": {
          "base_uri": "https://localhost:8080/"
        },
        "outputId": "f050883f-af34-4fe5-bda9-0ebf8f2b6a52"
      },
      "source": [
        "!pip install stellargraph"
      ],
      "execution_count": 31,
      "outputs": [
        {
          "output_type": "stream",
          "name": "stdout",
          "text": [
            "Collecting stellargraph\n",
            "  Downloading stellargraph-1.2.1-py3-none-any.whl (435 kB)\n",
            "\u001b[K     |████████████████████████████████| 435 kB 5.1 MB/s \n",
            "\u001b[?25hRequirement already satisfied: pandas>=0.24 in /usr/local/lib/python3.7/dist-packages (from stellargraph) (1.1.5)\n",
            "Requirement already satisfied: matplotlib>=2.2 in /usr/local/lib/python3.7/dist-packages (from stellargraph) (3.2.2)\n",
            "Requirement already satisfied: networkx>=2.2 in /usr/local/lib/python3.7/dist-packages (from stellargraph) (2.6.3)\n",
            "Requirement already satisfied: gensim>=3.4.0 in /usr/local/lib/python3.7/dist-packages (from stellargraph) (3.6.0)\n",
            "Requirement already satisfied: scipy>=1.1.0 in /usr/local/lib/python3.7/dist-packages (from stellargraph) (1.4.1)\n",
            "Requirement already satisfied: scikit-learn>=0.20 in /usr/local/lib/python3.7/dist-packages (from stellargraph) (1.0.1)\n",
            "Requirement already satisfied: tensorflow>=2.1.0 in /usr/local/lib/python3.7/dist-packages (from stellargraph) (2.7.0)\n",
            "Requirement already satisfied: numpy>=1.14 in /usr/local/lib/python3.7/dist-packages (from stellargraph) (1.19.5)\n",
            "Requirement already satisfied: smart-open>=1.2.1 in /usr/local/lib/python3.7/dist-packages (from gensim>=3.4.0->stellargraph) (5.2.1)\n",
            "Requirement already satisfied: six>=1.5.0 in /usr/local/lib/python3.7/dist-packages (from gensim>=3.4.0->stellargraph) (1.15.0)\n",
            "Requirement already satisfied: cycler>=0.10 in /usr/local/lib/python3.7/dist-packages (from matplotlib>=2.2->stellargraph) (0.11.0)\n",
            "Requirement already satisfied: python-dateutil>=2.1 in /usr/local/lib/python3.7/dist-packages (from matplotlib>=2.2->stellargraph) (2.8.2)\n",
            "Requirement already satisfied: kiwisolver>=1.0.1 in /usr/local/lib/python3.7/dist-packages (from matplotlib>=2.2->stellargraph) (1.3.2)\n",
            "Requirement already satisfied: pyparsing!=2.0.4,!=2.1.2,!=2.1.6,>=2.0.1 in /usr/local/lib/python3.7/dist-packages (from matplotlib>=2.2->stellargraph) (3.0.6)\n",
            "Requirement already satisfied: pytz>=2017.2 in /usr/local/lib/python3.7/dist-packages (from pandas>=0.24->stellargraph) (2018.9)\n",
            "Requirement already satisfied: threadpoolctl>=2.0.0 in /usr/local/lib/python3.7/dist-packages (from scikit-learn>=0.20->stellargraph) (3.0.0)\n",
            "Requirement already satisfied: joblib>=0.11 in /usr/local/lib/python3.7/dist-packages (from scikit-learn>=0.20->stellargraph) (1.1.0)\n",
            "Requirement already satisfied: tensorflow-estimator<2.8,~=2.7.0rc0 in /usr/local/lib/python3.7/dist-packages (from tensorflow>=2.1.0->stellargraph) (2.7.0)\n",
            "Requirement already satisfied: keras-preprocessing>=1.1.1 in /usr/local/lib/python3.7/dist-packages (from tensorflow>=2.1.0->stellargraph) (1.1.2)\n",
            "Requirement already satisfied: wrapt>=1.11.0 in /usr/local/lib/python3.7/dist-packages (from tensorflow>=2.1.0->stellargraph) (1.13.3)\n",
            "Requirement already satisfied: termcolor>=1.1.0 in /usr/local/lib/python3.7/dist-packages (from tensorflow>=2.1.0->stellargraph) (1.1.0)\n",
            "Requirement already satisfied: grpcio<2.0,>=1.24.3 in /usr/local/lib/python3.7/dist-packages (from tensorflow>=2.1.0->stellargraph) (1.42.0)\n",
            "Requirement already satisfied: wheel<1.0,>=0.32.0 in /usr/local/lib/python3.7/dist-packages (from tensorflow>=2.1.0->stellargraph) (0.37.0)\n",
            "Requirement already satisfied: libclang>=9.0.1 in /usr/local/lib/python3.7/dist-packages (from tensorflow>=2.1.0->stellargraph) (12.0.0)\n",
            "Requirement already satisfied: google-pasta>=0.1.1 in /usr/local/lib/python3.7/dist-packages (from tensorflow>=2.1.0->stellargraph) (0.2.0)\n",
            "Requirement already satisfied: h5py>=2.9.0 in /usr/local/lib/python3.7/dist-packages (from tensorflow>=2.1.0->stellargraph) (3.1.0)\n",
            "Requirement already satisfied: astunparse>=1.6.0 in /usr/local/lib/python3.7/dist-packages (from tensorflow>=2.1.0->stellargraph) (1.6.3)\n",
            "Requirement already satisfied: tensorboard~=2.6 in /usr/local/lib/python3.7/dist-packages (from tensorflow>=2.1.0->stellargraph) (2.7.0)\n",
            "Requirement already satisfied: protobuf>=3.9.2 in /usr/local/lib/python3.7/dist-packages (from tensorflow>=2.1.0->stellargraph) (3.17.3)\n",
            "Requirement already satisfied: gast<0.5.0,>=0.2.1 in /usr/local/lib/python3.7/dist-packages (from tensorflow>=2.1.0->stellargraph) (0.4.0)\n",
            "Requirement already satisfied: absl-py>=0.4.0 in /usr/local/lib/python3.7/dist-packages (from tensorflow>=2.1.0->stellargraph) (0.12.0)\n",
            "Requirement already satisfied: tensorflow-io-gcs-filesystem>=0.21.0 in /usr/local/lib/python3.7/dist-packages (from tensorflow>=2.1.0->stellargraph) (0.22.0)\n",
            "Requirement already satisfied: keras<2.8,>=2.7.0rc0 in /usr/local/lib/python3.7/dist-packages (from tensorflow>=2.1.0->stellargraph) (2.7.0)\n",
            "Requirement already satisfied: flatbuffers<3.0,>=1.12 in /usr/local/lib/python3.7/dist-packages (from tensorflow>=2.1.0->stellargraph) (2.0)\n",
            "Requirement already satisfied: typing-extensions>=3.6.6 in /usr/local/lib/python3.7/dist-packages (from tensorflow>=2.1.0->stellargraph) (3.10.0.2)\n",
            "Requirement already satisfied: opt-einsum>=2.3.2 in /usr/local/lib/python3.7/dist-packages (from tensorflow>=2.1.0->stellargraph) (3.3.0)\n",
            "Requirement already satisfied: cached-property in /usr/local/lib/python3.7/dist-packages (from h5py>=2.9.0->tensorflow>=2.1.0->stellargraph) (1.5.2)\n",
            "Requirement already satisfied: werkzeug>=0.11.15 in /usr/local/lib/python3.7/dist-packages (from tensorboard~=2.6->tensorflow>=2.1.0->stellargraph) (1.0.1)\n",
            "Requirement already satisfied: google-auth-oauthlib<0.5,>=0.4.1 in /usr/local/lib/python3.7/dist-packages (from tensorboard~=2.6->tensorflow>=2.1.0->stellargraph) (0.4.6)\n",
            "Requirement already satisfied: setuptools>=41.0.0 in /usr/local/lib/python3.7/dist-packages (from tensorboard~=2.6->tensorflow>=2.1.0->stellargraph) (57.4.0)\n",
            "Requirement already satisfied: tensorboard-data-server<0.7.0,>=0.6.0 in /usr/local/lib/python3.7/dist-packages (from tensorboard~=2.6->tensorflow>=2.1.0->stellargraph) (0.6.1)\n",
            "Requirement already satisfied: google-auth<3,>=1.6.3 in /usr/local/lib/python3.7/dist-packages (from tensorboard~=2.6->tensorflow>=2.1.0->stellargraph) (1.35.0)\n",
            "Requirement already satisfied: tensorboard-plugin-wit>=1.6.0 in /usr/local/lib/python3.7/dist-packages (from tensorboard~=2.6->tensorflow>=2.1.0->stellargraph) (1.8.0)\n",
            "Requirement already satisfied: markdown>=2.6.8 in /usr/local/lib/python3.7/dist-packages (from tensorboard~=2.6->tensorflow>=2.1.0->stellargraph) (3.3.6)\n",
            "Requirement already satisfied: requests<3,>=2.21.0 in /usr/local/lib/python3.7/dist-packages (from tensorboard~=2.6->tensorflow>=2.1.0->stellargraph) (2.23.0)\n",
            "Requirement already satisfied: cachetools<5.0,>=2.0.0 in /usr/local/lib/python3.7/dist-packages (from google-auth<3,>=1.6.3->tensorboard~=2.6->tensorflow>=2.1.0->stellargraph) (4.2.4)\n",
            "Requirement already satisfied: pyasn1-modules>=0.2.1 in /usr/local/lib/python3.7/dist-packages (from google-auth<3,>=1.6.3->tensorboard~=2.6->tensorflow>=2.1.0->stellargraph) (0.2.8)\n",
            "Requirement already satisfied: rsa<5,>=3.1.4 in /usr/local/lib/python3.7/dist-packages (from google-auth<3,>=1.6.3->tensorboard~=2.6->tensorflow>=2.1.0->stellargraph) (4.7.2)\n",
            "Requirement already satisfied: requests-oauthlib>=0.7.0 in /usr/local/lib/python3.7/dist-packages (from google-auth-oauthlib<0.5,>=0.4.1->tensorboard~=2.6->tensorflow>=2.1.0->stellargraph) (1.3.0)\n",
            "Requirement already satisfied: importlib-metadata>=4.4 in /usr/local/lib/python3.7/dist-packages (from markdown>=2.6.8->tensorboard~=2.6->tensorflow>=2.1.0->stellargraph) (4.8.2)\n",
            "Requirement already satisfied: zipp>=0.5 in /usr/local/lib/python3.7/dist-packages (from importlib-metadata>=4.4->markdown>=2.6.8->tensorboard~=2.6->tensorflow>=2.1.0->stellargraph) (3.6.0)\n",
            "Requirement already satisfied: pyasn1<0.5.0,>=0.4.6 in /usr/local/lib/python3.7/dist-packages (from pyasn1-modules>=0.2.1->google-auth<3,>=1.6.3->tensorboard~=2.6->tensorflow>=2.1.0->stellargraph) (0.4.8)\n",
            "Requirement already satisfied: idna<3,>=2.5 in /usr/local/lib/python3.7/dist-packages (from requests<3,>=2.21.0->tensorboard~=2.6->tensorflow>=2.1.0->stellargraph) (2.10)\n",
            "Requirement already satisfied: urllib3!=1.25.0,!=1.25.1,<1.26,>=1.21.1 in /usr/local/lib/python3.7/dist-packages (from requests<3,>=2.21.0->tensorboard~=2.6->tensorflow>=2.1.0->stellargraph) (1.24.3)\n",
            "Requirement already satisfied: certifi>=2017.4.17 in /usr/local/lib/python3.7/dist-packages (from requests<3,>=2.21.0->tensorboard~=2.6->tensorflow>=2.1.0->stellargraph) (2021.10.8)\n",
            "Requirement already satisfied: chardet<4,>=3.0.2 in /usr/local/lib/python3.7/dist-packages (from requests<3,>=2.21.0->tensorboard~=2.6->tensorflow>=2.1.0->stellargraph) (3.0.4)\n",
            "Requirement already satisfied: oauthlib>=3.0.0 in /usr/local/lib/python3.7/dist-packages (from requests-oauthlib>=0.7.0->google-auth-oauthlib<0.5,>=0.4.1->tensorboard~=2.6->tensorflow>=2.1.0->stellargraph) (3.1.1)\n",
            "Installing collected packages: stellargraph\n",
            "Successfully installed stellargraph-1.2.1\n"
          ]
        }
      ]
    },
    {
      "cell_type": "code",
      "metadata": {
        "id": "ev3rbqzAVmah"
      },
      "source": [
        "import pandas as pd\n",
        "import os\n",
        "\n",
        "import stellargraph as sg\n",
        "from stellargraph.mapper import FullBatchNodeGenerator\n",
        "from stellargraph.layer import GCN\n",
        "\n",
        "from tensorflow.keras import layers, optimizers, losses, metrics, Model\n",
        "from sklearn import preprocessing, model_selection\n",
        "from IPython.display import display, HTML\n",
        "import matplotlib.pyplot as plt"
      ],
      "execution_count": 32,
      "outputs": []
    },
    {
      "cell_type": "code",
      "metadata": {
        "id": "vmGsr5eZZEbF"
      },
      "source": [
        "from stellargraph import StellarGraph\n",
        "# square = StellarGraph.from_networkx(G)\n",
        "square = G.copy()\n",
        "def compute_features(node_id):\n",
        "    # in general this could compute something based on other features, but for this example,\n",
        "    # we don't have any other features, so we'll just do something basic with the node_id\n",
        "    # print(X[node_id].shape)\n",
        "    return X[node_id]\n",
        "\n",
        "\n",
        "for node_id, node_data in square.nodes(data=True):\n",
        "    # print(node_id)\n",
        "    node_data[\"feature\"] = compute_features(node_id)"
      ],
      "execution_count": 33,
      "outputs": []
    },
    {
      "cell_type": "code",
      "metadata": {
        "colab": {
          "base_uri": "https://localhost:8080/"
        },
        "id": "RjN1NWwpa6pa",
        "outputId": "dcffa596-7613-467b-89b7-8ded7ab269ae"
      },
      "source": [
        "G_stellar = StellarGraph.from_networkx(square, node_features=\"feature\")\n",
        "print(G_stellar.info())"
      ],
      "execution_count": 34,
      "outputs": [
        {
          "output_type": "stream",
          "name": "stdout",
          "text": [
            "StellarGraph: Undirected multigraph\n",
            " Nodes: 482, Edges: 3619\n",
            "\n",
            " Node types:\n",
            "  default: [482]\n",
            "    Features: float32 vector, length 25\n",
            "    Edge types: default-default->default\n",
            "\n",
            " Edge types:\n",
            "    default-default->default: [3619]\n",
            "        Weights: range=[0.00113043, 0.00499075], mean=0.00364217, std=0.000864459\n",
            "        Features: none\n"
          ]
        }
      ]
    },
    {
      "cell_type": "code",
      "metadata": {
        "colab": {
          "base_uri": "https://localhost:8080/"
        },
        "id": "M0hdCwatb44G",
        "outputId": "44ab38f5-7280-40de-e763-20c320e77951"
      },
      "source": [
        "G_stellar.nodes()"
      ],
      "execution_count": 35,
      "outputs": [
        {
          "output_type": "execute_result",
          "data": {
            "text/plain": [
              "Int64Index([  0,   1,   2,   3,   4,   5,   6,   7,   8,   9,\n",
              "            ...\n",
              "            472, 473, 474, 475, 476, 477, 478, 479, 480, 481],\n",
              "           dtype='int64', length=482)"
            ]
          },
          "metadata": {},
          "execution_count": 35
        }
      ]
    },
    {
      "cell_type": "code",
      "metadata": {
        "colab": {
          "base_uri": "https://localhost:8080/"
        },
        "id": "xsY59aqCYyum",
        "outputId": "c7a4b75a-d2d4-4d0b-8b3b-8dea41d8f805"
      },
      "source": [
        "generator = FullBatchNodeGenerator(G_stellar, method=\"gcn\")"
      ],
      "execution_count": 36,
      "outputs": [
        {
          "output_type": "stream",
          "name": "stdout",
          "text": [
            "Using GCN (local pooling) filters...\n"
          ]
        }
      ]
    },
    {
      "cell_type": "code",
      "metadata": {
        "id": "cZWQOgrebhax"
      },
      "source": [
        "from sklearn.model_selection import train_test_split\n",
        "from sklearn.metrics import accuracy_score\n",
        "X_train, X_test, y_train, y_test = train_test_split(range(len(X)), label_onehot, test_size=0.3, random_state=42)\n",
        "train_gen = generator.flow(X_train, y_train)\n",
        "val_gen = generator.flow(X_test, y_test)\n",
        "test_gen = generator.flow([len(X)-1],[label_onehot[-1]])"
      ],
      "execution_count": 53,
      "outputs": []
    },
    {
      "cell_type": "markdown",
      "metadata": {
        "id": "Qaz3_g7eUQjI"
      },
      "source": [
        "### Model define"
      ]
    },
    {
      "cell_type": "code",
      "metadata": {
        "id": "-y9CXXqLdzf7"
      },
      "source": [
        "gcn = GCN(\n",
        "    layer_sizes=[16, 16], activations=[\"relu\", \"relu\"], generator=generator, dropout=0.5\n",
        ")"
      ],
      "execution_count": 54,
      "outputs": []
    },
    {
      "cell_type": "code",
      "metadata": {
        "colab": {
          "base_uri": "https://localhost:8080/"
        },
        "id": "N51MB2-Hd2Wi",
        "outputId": "0de92ee0-ea9c-4935-cf51-63ef60cc2430"
      },
      "source": [
        "x_inp, x_out = gcn.in_out_tensors()\n",
        "\n",
        "x_out"
      ],
      "execution_count": 55,
      "outputs": [
        {
          "output_type": "execute_result",
          "data": {
            "text/plain": [
              "<KerasTensor: shape=(1, None, 16) dtype=float32 (created by layer 'gather_indices')>"
            ]
          },
          "metadata": {},
          "execution_count": 55
        }
      ]
    },
    {
      "cell_type": "code",
      "metadata": {
        "id": "gF0edslpd6A5"
      },
      "source": [
        "predictions = layers.Dense(units=2, activation=\"softmax\")(x_out)"
      ],
      "execution_count": 56,
      "outputs": []
    },
    {
      "cell_type": "code",
      "metadata": {
        "colab": {
          "base_uri": "https://localhost:8080/"
        },
        "id": "UxNlz8xweIHy",
        "outputId": "a55e5ffa-d0b7-4f4c-f8d9-bea5f0b97c4d"
      },
      "source": [
        "model = Model(inputs=x_inp, outputs=predictions)\n",
        "model.compile(\n",
        "    optimizer=optimizers.Adam(lr=0.01),\n",
        "    loss=losses.categorical_crossentropy,\n",
        "    metrics=[\"acc\"],\n",
        ")"
      ],
      "execution_count": 57,
      "outputs": [
        {
          "output_type": "stream",
          "name": "stderr",
          "text": [
            "/usr/local/lib/python3.7/dist-packages/keras/optimizer_v2/adam.py:105: UserWarning: The `lr` argument is deprecated, use `learning_rate` instead.\n",
            "  super(Adam, self).__init__(name, **kwargs)\n"
          ]
        }
      ]
    },
    {
      "cell_type": "code",
      "metadata": {
        "id": "wt69LdKGeSJU"
      },
      "source": [
        "from tensorflow.keras.callbacks import EarlyStopping\n",
        "\n",
        "es_callback = EarlyStopping(monitor=\"val_acc\", patience=50, restore_best_weights=True)"
      ],
      "execution_count": 58,
      "outputs": []
    },
    {
      "cell_type": "markdown",
      "metadata": {
        "id": "Mh-ZSn5-T2x6"
      },
      "source": [
        "### Model Training"
      ]
    },
    {
      "cell_type": "code",
      "metadata": {
        "colab": {
          "base_uri": "https://localhost:8080/"
        },
        "id": "gDhilD70eWSY",
        "outputId": "2dcf6190-4f18-4cd3-9193-c6dcc0568bad"
      },
      "source": [
        "history = model.fit(\n",
        "    train_gen,\n",
        "    epochs=200,\n",
        "    validation_data=val_gen,\n",
        "    verbose=2,\n",
        "    shuffle=False,  # this should be False, since shuffling data means shuffling the whole graph\n",
        "    callbacks=[es_callback],\n",
        ")"
      ],
      "execution_count": 59,
      "outputs": [
        {
          "output_type": "stream",
          "name": "stdout",
          "text": [
            "Epoch 1/200\n",
            "1/1 - 1s - loss: 1.0377 - acc: 0.7448 - val_loss: 0.5241 - val_acc: 0.7862 - 1s/epoch - 1s/step\n",
            "Epoch 2/200\n",
            "1/1 - 0s - loss: 0.8358 - acc: 0.6439 - val_loss: 0.5008 - val_acc: 0.7862 - 60ms/epoch - 60ms/step\n",
            "Epoch 3/200\n",
            "1/1 - 0s - loss: 0.7601 - acc: 0.6677 - val_loss: 0.4431 - val_acc: 0.7862 - 67ms/epoch - 67ms/step\n",
            "Epoch 4/200\n",
            "1/1 - 0s - loss: 0.6405 - acc: 0.7448 - val_loss: 0.4250 - val_acc: 0.7862 - 59ms/epoch - 59ms/step\n",
            "Epoch 5/200\n",
            "1/1 - 0s - loss: 0.6832 - acc: 0.7300 - val_loss: 0.4126 - val_acc: 0.8000 - 66ms/epoch - 66ms/step\n",
            "Epoch 6/200\n",
            "1/1 - 0s - loss: 0.7159 - acc: 0.7389 - val_loss: 0.4178 - val_acc: 0.7862 - 60ms/epoch - 60ms/step\n",
            "Epoch 7/200\n",
            "1/1 - 0s - loss: 0.6152 - acc: 0.7478 - val_loss: 0.4640 - val_acc: 0.7724 - 56ms/epoch - 56ms/step\n",
            "Epoch 8/200\n",
            "1/1 - 0s - loss: 0.5529 - acc: 0.7567 - val_loss: 0.4948 - val_acc: 0.7448 - 62ms/epoch - 62ms/step\n",
            "Epoch 9/200\n",
            "1/1 - 0s - loss: 0.5606 - acc: 0.7329 - val_loss: 0.4931 - val_acc: 0.7655 - 68ms/epoch - 68ms/step\n",
            "Epoch 10/200\n",
            "1/1 - 0s - loss: 0.5896 - acc: 0.7507 - val_loss: 0.4677 - val_acc: 0.7655 - 64ms/epoch - 64ms/step\n",
            "Epoch 11/200\n",
            "1/1 - 0s - loss: 0.5279 - acc: 0.7982 - val_loss: 0.4440 - val_acc: 0.7724 - 72ms/epoch - 72ms/step\n",
            "Epoch 12/200\n",
            "1/1 - 0s - loss: 0.5602 - acc: 0.7567 - val_loss: 0.4276 - val_acc: 0.7724 - 67ms/epoch - 67ms/step\n",
            "Epoch 13/200\n",
            "1/1 - 0s - loss: 0.6110 - acc: 0.7685 - val_loss: 0.4306 - val_acc: 0.8000 - 62ms/epoch - 62ms/step\n",
            "Epoch 14/200\n",
            "1/1 - 0s - loss: 0.5597 - acc: 0.7864 - val_loss: 0.4358 - val_acc: 0.7931 - 66ms/epoch - 66ms/step\n",
            "Epoch 15/200\n",
            "1/1 - 0s - loss: 0.5198 - acc: 0.7685 - val_loss: 0.4469 - val_acc: 0.7586 - 61ms/epoch - 61ms/step\n",
            "Epoch 16/200\n",
            "1/1 - 0s - loss: 0.5132 - acc: 0.7923 - val_loss: 0.4392 - val_acc: 0.7724 - 66ms/epoch - 66ms/step\n",
            "Epoch 17/200\n",
            "1/1 - 0s - loss: 0.5236 - acc: 0.7685 - val_loss: 0.4217 - val_acc: 0.7931 - 65ms/epoch - 65ms/step\n",
            "Epoch 18/200\n",
            "1/1 - 0s - loss: 0.5452 - acc: 0.7923 - val_loss: 0.4173 - val_acc: 0.7931 - 65ms/epoch - 65ms/step\n",
            "Epoch 19/200\n",
            "1/1 - 0s - loss: 0.5153 - acc: 0.7893 - val_loss: 0.4171 - val_acc: 0.7931 - 70ms/epoch - 70ms/step\n",
            "Epoch 20/200\n",
            "1/1 - 0s - loss: 0.5932 - acc: 0.7923 - val_loss: 0.4207 - val_acc: 0.8000 - 73ms/epoch - 73ms/step\n",
            "Epoch 21/200\n",
            "1/1 - 0s - loss: 0.4951 - acc: 0.8160 - val_loss: 0.4234 - val_acc: 0.7931 - 61ms/epoch - 61ms/step\n",
            "Epoch 22/200\n",
            "1/1 - 0s - loss: 0.5427 - acc: 0.7596 - val_loss: 0.4283 - val_acc: 0.7862 - 63ms/epoch - 63ms/step\n",
            "Epoch 23/200\n",
            "1/1 - 0s - loss: 0.5206 - acc: 0.7745 - val_loss: 0.4340 - val_acc: 0.7931 - 62ms/epoch - 62ms/step\n",
            "Epoch 24/200\n",
            "1/1 - 0s - loss: 0.4679 - acc: 0.8131 - val_loss: 0.4349 - val_acc: 0.7931 - 64ms/epoch - 64ms/step\n",
            "Epoch 25/200\n",
            "1/1 - 0s - loss: 0.4795 - acc: 0.7804 - val_loss: 0.4324 - val_acc: 0.8069 - 72ms/epoch - 72ms/step\n",
            "Epoch 26/200\n",
            "1/1 - 0s - loss: 0.5052 - acc: 0.7745 - val_loss: 0.4329 - val_acc: 0.8138 - 68ms/epoch - 68ms/step\n",
            "Epoch 27/200\n",
            "1/1 - 0s - loss: 0.5067 - acc: 0.7745 - val_loss: 0.4377 - val_acc: 0.8207 - 65ms/epoch - 65ms/step\n",
            "Epoch 28/200\n",
            "1/1 - 0s - loss: 0.5046 - acc: 0.7893 - val_loss: 0.4406 - val_acc: 0.8000 - 73ms/epoch - 73ms/step\n",
            "Epoch 29/200\n",
            "1/1 - 0s - loss: 0.4993 - acc: 0.7715 - val_loss: 0.4425 - val_acc: 0.8000 - 63ms/epoch - 63ms/step\n",
            "Epoch 30/200\n",
            "1/1 - 0s - loss: 0.5273 - acc: 0.7834 - val_loss: 0.4484 - val_acc: 0.7931 - 61ms/epoch - 61ms/step\n",
            "Epoch 31/200\n",
            "1/1 - 0s - loss: 0.4895 - acc: 0.7685 - val_loss: 0.4548 - val_acc: 0.8069 - 60ms/epoch - 60ms/step\n",
            "Epoch 32/200\n",
            "1/1 - 0s - loss: 0.4718 - acc: 0.8131 - val_loss: 0.4579 - val_acc: 0.8138 - 64ms/epoch - 64ms/step\n",
            "Epoch 33/200\n",
            "1/1 - 0s - loss: 0.4785 - acc: 0.7923 - val_loss: 0.4491 - val_acc: 0.7931 - 63ms/epoch - 63ms/step\n",
            "Epoch 34/200\n",
            "1/1 - 0s - loss: 0.4983 - acc: 0.7715 - val_loss: 0.4412 - val_acc: 0.7862 - 60ms/epoch - 60ms/step\n",
            "Epoch 35/200\n",
            "1/1 - 0s - loss: 0.5422 - acc: 0.7685 - val_loss: 0.4343 - val_acc: 0.7931 - 66ms/epoch - 66ms/step\n",
            "Epoch 36/200\n",
            "1/1 - 0s - loss: 0.5136 - acc: 0.7745 - val_loss: 0.4314 - val_acc: 0.7931 - 72ms/epoch - 72ms/step\n",
            "Epoch 37/200\n",
            "1/1 - 0s - loss: 0.5025 - acc: 0.7745 - val_loss: 0.4305 - val_acc: 0.8069 - 59ms/epoch - 59ms/step\n",
            "Epoch 38/200\n",
            "1/1 - 0s - loss: 0.5220 - acc: 0.7864 - val_loss: 0.4347 - val_acc: 0.7931 - 62ms/epoch - 62ms/step\n",
            "Epoch 39/200\n",
            "1/1 - 0s - loss: 0.4971 - acc: 0.7804 - val_loss: 0.4414 - val_acc: 0.7931 - 63ms/epoch - 63ms/step\n",
            "Epoch 40/200\n",
            "1/1 - 0s - loss: 0.5151 - acc: 0.7745 - val_loss: 0.4473 - val_acc: 0.7793 - 59ms/epoch - 59ms/step\n",
            "Epoch 41/200\n",
            "1/1 - 0s - loss: 0.5132 - acc: 0.7804 - val_loss: 0.4495 - val_acc: 0.7793 - 60ms/epoch - 60ms/step\n",
            "Epoch 42/200\n",
            "1/1 - 0s - loss: 0.5184 - acc: 0.7715 - val_loss: 0.4438 - val_acc: 0.7931 - 65ms/epoch - 65ms/step\n",
            "Epoch 43/200\n",
            "1/1 - 0s - loss: 0.4654 - acc: 0.7893 - val_loss: 0.4382 - val_acc: 0.8000 - 69ms/epoch - 69ms/step\n",
            "Epoch 44/200\n",
            "1/1 - 0s - loss: 0.4985 - acc: 0.8012 - val_loss: 0.4335 - val_acc: 0.8000 - 67ms/epoch - 67ms/step\n",
            "Epoch 45/200\n",
            "1/1 - 0s - loss: 0.4877 - acc: 0.7834 - val_loss: 0.4285 - val_acc: 0.8000 - 62ms/epoch - 62ms/step\n",
            "Epoch 46/200\n",
            "1/1 - 0s - loss: 0.4853 - acc: 0.8071 - val_loss: 0.4239 - val_acc: 0.8069 - 62ms/epoch - 62ms/step\n",
            "Epoch 47/200\n",
            "1/1 - 0s - loss: 0.4799 - acc: 0.7923 - val_loss: 0.4212 - val_acc: 0.8069 - 61ms/epoch - 61ms/step\n",
            "Epoch 48/200\n",
            "1/1 - 0s - loss: 0.4718 - acc: 0.7923 - val_loss: 0.4200 - val_acc: 0.8069 - 64ms/epoch - 64ms/step\n",
            "Epoch 49/200\n",
            "1/1 - 0s - loss: 0.4780 - acc: 0.7774 - val_loss: 0.4199 - val_acc: 0.7931 - 61ms/epoch - 61ms/step\n",
            "Epoch 50/200\n",
            "1/1 - 0s - loss: 0.4826 - acc: 0.7923 - val_loss: 0.4207 - val_acc: 0.8069 - 70ms/epoch - 70ms/step\n",
            "Epoch 51/200\n",
            "1/1 - 0s - loss: 0.4731 - acc: 0.7745 - val_loss: 0.4239 - val_acc: 0.8069 - 60ms/epoch - 60ms/step\n",
            "Epoch 52/200\n",
            "1/1 - 0s - loss: 0.4501 - acc: 0.8131 - val_loss: 0.4260 - val_acc: 0.8000 - 79ms/epoch - 79ms/step\n",
            "Epoch 53/200\n",
            "1/1 - 0s - loss: 0.4559 - acc: 0.8131 - val_loss: 0.4302 - val_acc: 0.7931 - 66ms/epoch - 66ms/step\n",
            "Epoch 54/200\n",
            "1/1 - 0s - loss: 0.4695 - acc: 0.7982 - val_loss: 0.4273 - val_acc: 0.7931 - 60ms/epoch - 60ms/step\n",
            "Epoch 55/200\n",
            "1/1 - 0s - loss: 0.4780 - acc: 0.7834 - val_loss: 0.4210 - val_acc: 0.8069 - 62ms/epoch - 62ms/step\n",
            "Epoch 56/200\n",
            "1/1 - 0s - loss: 0.5005 - acc: 0.7774 - val_loss: 0.4164 - val_acc: 0.8138 - 61ms/epoch - 61ms/step\n",
            "Epoch 57/200\n",
            "1/1 - 0s - loss: 0.4725 - acc: 0.8101 - val_loss: 0.4155 - val_acc: 0.8000 - 62ms/epoch - 62ms/step\n",
            "Epoch 58/200\n",
            "1/1 - 0s - loss: 0.4742 - acc: 0.7685 - val_loss: 0.4138 - val_acc: 0.8138 - 66ms/epoch - 66ms/step\n",
            "Epoch 59/200\n",
            "1/1 - 0s - loss: 0.4721 - acc: 0.8042 - val_loss: 0.4153 - val_acc: 0.8138 - 60ms/epoch - 60ms/step\n",
            "Epoch 60/200\n",
            "1/1 - 0s - loss: 0.4756 - acc: 0.7923 - val_loss: 0.4176 - val_acc: 0.8138 - 61ms/epoch - 61ms/step\n",
            "Epoch 61/200\n",
            "1/1 - 0s - loss: 0.4664 - acc: 0.8071 - val_loss: 0.4194 - val_acc: 0.8138 - 64ms/epoch - 64ms/step\n",
            "Epoch 62/200\n",
            "1/1 - 0s - loss: 0.4767 - acc: 0.8012 - val_loss: 0.4235 - val_acc: 0.8138 - 59ms/epoch - 59ms/step\n",
            "Epoch 63/200\n",
            "1/1 - 0s - loss: 0.4655 - acc: 0.7893 - val_loss: 0.4270 - val_acc: 0.8138 - 64ms/epoch - 64ms/step\n",
            "Epoch 64/200\n",
            "1/1 - 0s - loss: 0.4622 - acc: 0.7864 - val_loss: 0.4263 - val_acc: 0.8138 - 64ms/epoch - 64ms/step\n",
            "Epoch 65/200\n",
            "1/1 - 0s - loss: 0.4833 - acc: 0.7715 - val_loss: 0.4229 - val_acc: 0.8138 - 66ms/epoch - 66ms/step\n",
            "Epoch 66/200\n",
            "1/1 - 0s - loss: 0.4370 - acc: 0.8131 - val_loss: 0.4184 - val_acc: 0.8207 - 58ms/epoch - 58ms/step\n",
            "Epoch 67/200\n",
            "1/1 - 0s - loss: 0.4649 - acc: 0.7864 - val_loss: 0.4150 - val_acc: 0.8138 - 60ms/epoch - 60ms/step\n",
            "Epoch 68/200\n",
            "1/1 - 0s - loss: 0.4673 - acc: 0.7834 - val_loss: 0.4143 - val_acc: 0.8138 - 65ms/epoch - 65ms/step\n",
            "Epoch 69/200\n",
            "1/1 - 0s - loss: 0.4594 - acc: 0.8071 - val_loss: 0.4148 - val_acc: 0.8138 - 56ms/epoch - 56ms/step\n",
            "Epoch 70/200\n",
            "1/1 - 0s - loss: 0.4450 - acc: 0.8071 - val_loss: 0.4154 - val_acc: 0.8138 - 78ms/epoch - 78ms/step\n",
            "Epoch 71/200\n",
            "1/1 - 0s - loss: 0.4693 - acc: 0.7774 - val_loss: 0.4167 - val_acc: 0.8138 - 60ms/epoch - 60ms/step\n",
            "Epoch 72/200\n",
            "1/1 - 0s - loss: 0.4878 - acc: 0.7864 - val_loss: 0.4196 - val_acc: 0.8138 - 61ms/epoch - 61ms/step\n",
            "Epoch 73/200\n",
            "1/1 - 0s - loss: 0.4413 - acc: 0.8249 - val_loss: 0.4226 - val_acc: 0.8138 - 62ms/epoch - 62ms/step\n",
            "Epoch 74/200\n",
            "1/1 - 0s - loss: 0.4554 - acc: 0.8012 - val_loss: 0.4230 - val_acc: 0.8138 - 64ms/epoch - 64ms/step\n",
            "Epoch 75/200\n",
            "1/1 - 0s - loss: 0.4621 - acc: 0.7982 - val_loss: 0.4256 - val_acc: 0.8207 - 61ms/epoch - 61ms/step\n",
            "Epoch 76/200\n",
            "1/1 - 0s - loss: 0.4463 - acc: 0.8042 - val_loss: 0.4282 - val_acc: 0.8207 - 61ms/epoch - 61ms/step\n",
            "Epoch 77/200\n",
            "1/1 - 0s - loss: 0.4651 - acc: 0.7923 - val_loss: 0.4308 - val_acc: 0.8138 - 67ms/epoch - 67ms/step\n"
          ]
        }
      ]
    },
    {
      "cell_type": "code",
      "metadata": {
        "colab": {
          "base_uri": "https://localhost:8080/",
          "height": 585
        },
        "id": "exNrmr3iejYZ",
        "outputId": "96ca3db8-2d21-4598-ffe7-1b4f1cefeb3b"
      },
      "source": [
        "sg.utils.plot_history(history)"
      ],
      "execution_count": 60,
      "outputs": [
        {
          "output_type": "display_data",
          "data": {
            "image/png": "[encoded data removed]",
            "text/plain": [
              "<Figure size 504x576 with 2 Axes>"
            ]
          },
          "metadata": {
            "needs_background": "light"
          }
        }
      ]
    },
    {
      "cell_type": "code",
      "metadata": {
        "colab": {
          "base_uri": "https://localhost:8080/"
        },
        "id": "QZHJvhkbf5iB",
        "outputId": "8a423761-7fbf-4a65-97ac-6353ad519dfe"
      },
      "source": [
        "test_loss, test_acc = model.evaluate(val_gen)\n",
        "test_acc"
      ],
      "execution_count": 61,
      "outputs": [
        {
          "output_type": "stream",
          "name": "stdout",
          "text": [
            "1/1 [==============================] - 0s 44ms/step - loss: 0.4377 - acc: 0.8207\n"
          ]
        },
        {
          "output_type": "execute_result",
          "data": {
            "text/plain": [
              "0.8206896781921387"
            ]
          },
          "metadata": {},
          "execution_count": 61
        }
      ]
    },
    {
      "cell_type": "markdown",
      "metadata": {
        "id": "sLh8nz_XT52S"
      },
      "source": [
        "### **Model training results**"
      ]
    },
    {
      "cell_type": "code",
      "metadata": {
        "colab": {
          "base_uri": "https://localhost:8080/"
        },
        "id": "frfdtabahQtu",
        "outputId": "c9828e5b-ce82-4c64-a4af-3c161af962f7"
      },
      "source": [
        "from sklearn.metrics import classification_report\n",
        "import sklearn\n",
        "target_names = ['class 0', 'class 1']\n",
        "predictions = model.predict(val_gen)\n",
        "y_pred = tf.math.argmax(predictions[0],axis=1)\n",
        "print(classification_report(tf.math.argmax(y_test,axis=1), y_pred, target_names=target_names))"
      ],
      "execution_count": 62,
      "outputs": [
        {
          "output_type": "stream",
          "name": "stdout",
          "text": [
            "              precision    recall  f1-score   support\n",
            "\n",
            "     class 0       0.84      0.96      0.89       114\n",
            "     class 1       0.67      0.32      0.43        31\n",
            "\n",
            "    accuracy                           0.82       145\n",
            "   macro avg       0.75      0.64      0.66       145\n",
            "weighted avg       0.80      0.82      0.80       145\n",
            "\n"
          ]
        }
      ]
    },
    {
      "cell_type": "code",
      "metadata": {
        "colab": {
          "base_uri": "https://localhost:8080/"
        },
        "id": "b_NbLYA6gJGj",
        "outputId": "958800b0-53d3-4a2a-e0a1-3100951645f8"
      },
      "source": [
        "from sklearn.metrics import roc_auc_score\n",
        "print(\"AUROC: \",roc_auc_score(y_test, predictions[0]))"
      ],
      "execution_count": 101,
      "outputs": [
        {
          "output_type": "stream",
          "name": "stdout",
          "text": [
            "AUROC:  0.8160724391624221\n"
          ]
        }
      ]
    },
    {
      "cell_type": "markdown",
      "metadata": {
        "id": "JekSHIKbT9vP"
      },
      "source": [
        "## **Your result**"
      ]
    },
    {
      "cell_type": "code",
      "metadata": {
        "colab": {
          "base_uri": "https://localhost:8080/"
        },
        "id": "f4GTu3FFRMfP",
        "outputId": "45b60cc3-743b-4a1d-a1b1-48ba3134d254"
      },
      "source": [
        "prob_without_SI, prob_with_SI = model.predict(test_gen)[0][0]\n",
        "print('SI probability: {:.2%}'.format(prob_with_SI))"
      ],
      "execution_count": 90,
      "outputs": [
        {
          "output_type": "stream",
          "name": "stdout",
          "text": [
            "SI probability: 17.65%\n"
          ]
        }
      ]
    },
    {
      "cell_type": "code",
      "metadata": {
        "id": "nvP61GEGROli"
      },
      "source": [
        ""
      ],
      "execution_count": null,
      "outputs": []
    }
  ]
}
